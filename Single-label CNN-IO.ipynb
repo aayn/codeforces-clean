{
 "cells": [
  {
   "cell_type": "markdown",
   "metadata": {},
   "source": [
    "# Final Experiments - Single-label CNNText Non-problem Statement"
   ]
  },
  {
   "cell_type": "markdown",
   "metadata": {},
   "source": [
    "## Utilities and Imports"
   ]
  },
  {
   "cell_type": "code",
   "execution_count": 1,
   "metadata": {},
   "outputs": [
    {
     "name": "stderr",
     "output_type": "stream",
     "text": [
      "/home/aayn/anaconda3/envs/fastai/lib/python3.6/site-packages/sklearn/ensemble/weight_boosting.py:29: DeprecationWarning: numpy.core.umath_tests is an internal NumPy module and should not be imported. It will be removed in a future NumPy release.\n",
      "  from numpy.core.umath_tests import inner1d\n"
     ]
    }
   ],
   "source": [
    "%reload_ext autoreload\n",
    "%autoreload 2\n",
    "\n",
    "import itertools\n",
    "from collections import Counter\n",
    "import numpy as np\n",
    "import pickle\n",
    "from operator import itemgetter\n",
    "import matplotlib\n",
    "from matplotlib import pyplot as plt\n",
    "\n",
    "%matplotlib inline\n",
    "# matplotlib.rcParams['figure.figsize'] = [5, 10]\n",
    "\n",
    "from sklearn.model_selection import KFold, StratifiedKFold\n",
    "from sklearn.pipeline import Pipeline\n",
    "from sklearn.feature_extraction.text import CountVectorizer, TfidfVectorizer\n",
    "from sklearn.metrics import classification_report, accuracy_score, confusion_matrix, f1_score\n",
    "from sklearn.svm import LinearSVC, SVC\n",
    "from nltk.corpus import stopwords\n",
    "stop_words = stopwords.words('english')\n",
    "\n",
    "import torch\n",
    "import torch.nn as nn\n",
    "import torch.nn.functional as F\n",
    "from torch.autograd import Variable\n",
    "\n",
    "from fastai import text as ft\n",
    "from fastai import dataloader as fd\n",
    "from fastai import dataset as fs\n",
    "from fastai import learner as fl\n",
    "from fastai import core as fc\n",
    "from fastai import metrics as fm\n",
    "\n",
    "\n",
    "from skai.runner import TextRunner, Adam_lambda\n",
    "from skai.mwrapper import MWrapper, SKModel\n",
    "from skai.utils import multi_to_text_out, vote_pred\n",
    "from skai.utils import get_classification_type, weights_init, multilabel_prediction\n",
    "from skai.dataset import TokenDataset, SimpleDataset\n",
    "\n",
    "\n",
    "def mapt(f, *iters):\n",
    "    return tuple(map(f, *iters))\n",
    "\n",
    "def mapl(f, *iters):\n",
    "    return list(map(f, *iters))\n",
    "\n",
    "def manually_remove_problems(data):\n",
    "    \"\"\" remove problem from data if it has a certain tag\"\"\"\n",
    "    final_data = {}\n",
    "    remove = ['*special']\n",
    "    for i in data:\n",
    "        if set(data[i][1][0]).intersection(set(remove)) == set():\n",
    "            if data[i][0][0] != '':\n",
    "                final_data[i] = data[i]\n",
    "    return final_data\n",
    "\n",
    "def get_single_label_problems(data):\n",
    "    '''returns a dict of all problems which only have one label'''\n",
    "    single_label_problems = {}\n",
    "    for i in data:\n",
    "        if len(data[i][1][0]) == 1:\n",
    "            single_label_problems[i] = data[i]\n",
    "    return single_label_problems\n",
    "\n",
    "def get_classwise_distribution(data):\n",
    "    class_count = {}\n",
    "    for i in data:\n",
    "        for cls in data[i][1][0]:\n",
    "            if cls in class_count:\n",
    "                class_count[cls] +=1 \n",
    "            else:\n",
    "                class_count[cls] = 1\n",
    "    return class_count\n",
    "\n",
    "\n",
    "def get_topk_single_label_problems(data,k):\n",
    "    \"\"\" get top k by frequency single label problems\"\"\"\n",
    "    class_dict = get_classwise_distribution(data)\n",
    "    print(class_dict)\n",
    "    class_dict = dict(sorted(class_dict.items(), key=itemgetter(1), reverse=True)[:k])\n",
    "    print(set(class_dict.keys()))\n",
    "\n",
    "    topk_data = {}\n",
    "    for i in data:\n",
    "        if set(data[i][1][0]).intersection(set(class_dict.keys())) != set():\n",
    "            topk_data[i] = data[i]\n",
    "            \n",
    "    return topk_data\n",
    "\n",
    "def make_text_dataset(rdata):\n",
    "    Xtext, ytext = [], []\n",
    "    for url, data in rdata.items():\n",
    "        try:\n",
    "            ytext.append(data[1][0][0])\n",
    "        except IndexError:\n",
    "            continue\n",
    "        Xtext.append(data[0][0])\n",
    "    return Xtext, ytext\n",
    "\n",
    "def make_statement_dataset(rdata):\n",
    "    Xtext, ytext = [], []\n",
    "    for url, data in rdata.items():\n",
    "        try:\n",
    "            ytext.append(data[1][0][0])\n",
    "        except IndexError:\n",
    "            continue\n",
    "        Xtext.append(data[0][2])\n",
    "    return Xtext, ytext\n",
    "\n",
    "def make_non_statement_dataset(rdata):\n",
    "    Xtext, ytext = [], []\n",
    "    for url, data in rdata.items():\n",
    "        try:\n",
    "            ytext.append(data[1][0][0])\n",
    "        except IndexError:\n",
    "            continue\n",
    "        Xtext.append(f'{data[0][3]}\\n{data[0][4]}\\n{data[0][5]}')\n",
    "    return Xtext, ytext\n",
    "\n",
    "def get_class_list(labels):\n",
    "    return list(set(labels))\n",
    "\n",
    "def plot_confusion_matrix(y_true, y_pred, classes,\n",
    "                          normalize=True,\n",
    "                          title='Confusion matrix',\n",
    "                          cmap=plt.cm.Blues):\n",
    "    \"\"\"\n",
    "    This function prints and plots the confusion matrix.\n",
    "    Normalization can be applied by setting `normalize=True`.\n",
    "    \"\"\"\n",
    "    cm = confusion_matrix(y_true, y_pred, labels=classes)\n",
    "    if normalize:\n",
    "        cm = cm.astype('float') / cm.sum(axis=1)[:, np.newaxis]\n",
    "        print(\"Normalized confusion matrix\")\n",
    "    else:\n",
    "        print('Confusion matrix, without normalization')\n",
    "\n",
    "    print(cm)\n",
    "    fig = plt.gcf()\n",
    "    fig.set_size_inches(22, 16)\n",
    "    plt.imshow(cm, interpolation='nearest', cmap=cmap, vmin=0.0, vmax=1.0)\n",
    "#     plt.title(title, fontsize)\n",
    "    plt.colorbar()\n",
    "    tick_marks = np.arange(len(classes))\n",
    "    plt.xticks(tick_marks, classes, fontsize=32)\n",
    "    plt.yticks(tick_marks, classes, fontsize=32)\n",
    "\n",
    "    print(cm.max())\n",
    "    fmt = '.2f' if normalize else 'd'\n",
    "    thresh = 0.5\n",
    "    for i, j in itertools.product(range(cm.shape[0]), range(cm.shape[1])):\n",
    "        plt.text(j, i, format(cm[i, j], fmt),\n",
    "                 horizontalalignment=\"center\",\n",
    "                 color=\"white\" if cm[i, j] > thresh else \"black\",\n",
    "                 fontsize=32)\n",
    "\n",
    "    plt.tight_layout()\n",
    "    plt.ylabel('True label', fontsize=32)\n",
    "    plt.xlabel('Predicted label', fontsize=32)"
   ]
  },
  {
   "cell_type": "markdown",
   "metadata": {},
   "source": [
    "## Load data"
   ]
  },
  {
   "cell_type": "code",
   "execution_count": 2,
   "metadata": {
    "scrolled": true
   },
   "outputs": [],
   "source": [
    "top5s = pickle.load(open('data/110_5single_26aug.pkl','rb'))\n",
    "top10s = pickle.load(open('data/10single_26aug.pkl','rb'))\n",
    "\n",
    "top5ns, top10ns = mapt(make_non_statement_dataset, [top5s, top10s])"
   ]
  },
  {
   "cell_type": "code",
   "execution_count": 3,
   "metadata": {},
   "outputs": [
    {
     "name": "stdout",
     "output_type": "stream",
     "text": [
      "1159\n"
     ]
    }
   ],
   "source": [
    "print(len(top10ns[0]))"
   ]
  },
  {
   "cell_type": "code",
   "execution_count": 4,
   "metadata": {
    "scrolled": true
   },
   "outputs": [
    {
     "name": "stdout",
     "output_type": "stream",
     "text": [
      "Input\n",
      "The first line contains one integer n\n",
      "(1≤n≤5⋅105\n",
      ").\n",
      "The second line contains n\n",
      "integers a1,a2,…,an\n",
      "(1≤ai≤5⋅105\n",
      ").\n",
      "The third line contains one integer q\n",
      "(1≤q≤5⋅105\n",
      ").\n",
      "Then q\n",
      "lines follow, i\n",
      "-th line containing two integers li\n",
      "and ri\n",
      "representing i\n",
      "-th query (1≤li≤ri≤n\n",
      ").\n",
      "Output\n",
      "Answer the queries as follows:\n",
      "If there is no integer such that it occurs in the subarray from index li\n",
      "to index ri\n",
      "exactly once, print 0\n",
      ". Otherwise print any such integer.\n",
      "Example\n",
      "input\n",
      "Copy\n",
      "6\n",
      "1 1 2 3 2 4\n",
      "2\n",
      "2 6\n",
      "1 2\n",
      "output\n",
      "Copy\n",
      "4\n",
      "0\n"
     ]
    }
   ],
   "source": [
    "print(top5ns[0][0])"
   ]
  },
  {
   "cell_type": "markdown",
   "metadata": {},
   "source": [
    "## CNN Experiments"
   ]
  },
  {
   "cell_type": "code",
   "execution_count": 5,
   "metadata": {},
   "outputs": [],
   "source": [
    "class CNN_Text(nn.Module):\n",
    "    def __init__(self, embed_num, class_num, channel_in=1, \n",
    "                 kernel_sizes=[3, 4, 5], kernel_num=512, embed_dim=300):\n",
    "        super().__init__()\n",
    "        self.kernel_num = kernel_num\n",
    "        self.embed = nn.Embedding(embed_num, embed_dim)\n",
    "        \n",
    "        convs = [nn.Conv1d(1, kernel_num, (ks, embed_dim))\n",
    "                 for ks in kernel_sizes]\n",
    "        self.convs = nn.ModuleList(convs)\n",
    "#         self.bn1 = nn.BatchNorm2d(kernel_num)\n",
    "        self.fc1 = nn.Linear(len(kernel_sizes) * kernel_num, class_num)\n",
    "    \n",
    "    def conv_and_pool(self, x, conv):\n",
    "        x = F.relu(conv(x)).squeeze(3)  # (N, Co, W)\n",
    "        x = F.max_pool1d(x, x.size(2)).squeeze(2)\n",
    "        return x\n",
    "    \n",
    "    def forward(self, x):\n",
    "        x = self.embed(x)\n",
    "        x = x.unsqueeze(1)\n",
    "        \n",
    "        x = [F.relu(conv(x)).squeeze(3) for conv in self.convs]\n",
    "        x = [F.max_pool1d(i, i.size(2)).squeeze(2) for i in x]\n",
    "        x = torch.cat(x, 1)\n",
    "        \n",
    "        out = self.fc1(x)\n",
    "        return out"
   ]
  },
  {
   "cell_type": "markdown",
   "metadata": {},
   "source": [
    "### 5-class"
   ]
  },
  {
   "cell_type": "code",
   "execution_count": 8,
   "metadata": {},
   "outputs": [
    {
     "name": "stdout",
     "output_type": "stream",
     "text": [
      "Checkpoint reached: raw data cleaned.\n",
      "multiclass classification.\n"
     ]
    }
   ],
   "source": [
    "trunner = TextRunner([None], top5ns[0], top5ns[1], 'top5ns')\n",
    "in_dim = len(trunner.alldata.tvectorizer.itos)\n",
    "Xall, yall = trunner.dataset"
   ]
  },
  {
   "cell_type": "code",
   "execution_count": 9,
   "metadata": {
    "scrolled": true
   },
   "outputs": [
    {
     "data": {
      "application/vnd.jupyter.widget-view+json": {
       "model_id": "39e25fb96664434182791ec16d2a0756",
       "version_major": 2,
       "version_minor": 0
      },
      "text/plain": [
       "HBox(children=(IntProgress(value=0, description='Epoch', max=10), HTML(value='')))"
      ]
     },
     "metadata": {},
     "output_type": "display_data"
    },
    {
     "name": "stdout",
     "output_type": "stream",
     "text": [
      "epoch      trn_loss   val_loss   accuracy                  \n",
      "    0      0.16715    0.153271   0.4       \n",
      "    1      0.152709   0.143394   0.381818                  \n",
      "    2      0.139241   0.137654   0.4                       \n",
      "    3      0.125211   0.134013   0.436364                  \n",
      "    4      0.111022   0.131914   0.472727                  \n",
      "    5      0.096967   0.130459   0.509091                   \n",
      "    6      0.083164   0.128789   0.563636                   \n",
      "    7      0.069792   0.127722   0.545455                   \n",
      "    8      0.057229   0.126602   0.545455                   \n",
      "    9      0.045818   0.125564   0.581818                   \n",
      "\n",
      "0.5818181818181818\n"
     ]
    },
    {
     "data": {
      "application/vnd.jupyter.widget-view+json": {
       "model_id": "0b3b02ec56e640f2b6256037a0b226ee",
       "version_major": 2,
       "version_minor": 0
      },
      "text/plain": [
       "HBox(children=(IntProgress(value=0, description='Epoch', max=10), HTML(value='')))"
      ]
     },
     "metadata": {},
     "output_type": "display_data"
    },
    {
     "name": "stdout",
     "output_type": "stream",
     "text": [
      "epoch      trn_loss   val_loss   accuracy                  \n",
      "    0      0.165924   0.154229   0.254545  \n",
      "    1      0.151666   0.140703   0.4                       \n",
      "    2      0.13762    0.130759   0.527273                  \n",
      "    3      0.122506   0.12337    0.545455                  \n",
      "    4      0.106969   0.120193   0.527273                  \n",
      "    5      0.091485   0.120037   0.581818                   \n",
      "    6      0.076473   0.121565   0.563636                   \n",
      "    7      0.062354   0.1234     0.527273                   \n",
      "    8      0.049672   0.124995   0.563636                   \n",
      "    9      0.038803   0.125494   0.563636                   \n",
      "\n",
      "0.5818181818181818\n"
     ]
    },
    {
     "data": {
      "application/vnd.jupyter.widget-view+json": {
       "model_id": "5544b10e5cc9421aa06bb7ab42d0cc12",
       "version_major": 2,
       "version_minor": 0
      },
      "text/plain": [
       "HBox(children=(IntProgress(value=0, description='Epoch', max=10), HTML(value='')))"
      ]
     },
     "metadata": {},
     "output_type": "display_data"
    },
    {
     "name": "stdout",
     "output_type": "stream",
     "text": [
      "epoch      trn_loss   val_loss   accuracy                  \n",
      "    0      0.165323   0.154146   0.327273  \n",
      "    1      0.152078   0.140462   0.472727                  \n",
      "    2      0.139234   0.128498   0.563636                  \n",
      "    3      0.125376   0.122343   0.581818                  \n",
      "    4      0.110908   0.120553   0.672727                  \n",
      "    5      0.0963     0.120556   0.654545                   \n",
      "    6      0.081946   0.120391   0.654545                   \n",
      "    7      0.068217   0.121737   0.654545                   \n",
      "    8      0.055401   0.122586   0.618182                   \n",
      "    9      0.043932   0.123442   0.618182                   \n",
      "\n",
      "0.6121212121212121\n"
     ]
    },
    {
     "data": {
      "application/vnd.jupyter.widget-view+json": {
       "model_id": "42126f8c5ce147f1a2fb2dfc78161368",
       "version_major": 2,
       "version_minor": 0
      },
      "text/plain": [
       "HBox(children=(IntProgress(value=0, description='Epoch', max=10), HTML(value='')))"
      ]
     },
     "metadata": {},
     "output_type": "display_data"
    },
    {
     "name": "stdout",
     "output_type": "stream",
     "text": [
      "epoch      trn_loss   val_loss   accuracy                  \n",
      "    0      0.166588   0.156131   0.327273  \n",
      "    1      0.151727   0.148869   0.345455                  \n",
      "    2      0.138278   0.143681   0.4                       \n",
      "    3      0.124184   0.140956   0.436364                  \n",
      "    4      0.109748   0.14001    0.472727                  \n",
      "    5      0.095455   0.13828    0.472727                   \n",
      "    6      0.081469   0.137152   0.509091                   \n",
      "    7      0.068032   0.13679    0.509091                   \n",
      "    8      0.055538   0.136824   0.509091                   \n",
      "    9      0.044326   0.137004   0.509091                   \n",
      "\n",
      "0.5863636363636363\n"
     ]
    },
    {
     "data": {
      "application/vnd.jupyter.widget-view+json": {
       "model_id": "227ea06dfe2545da9d515bdba56e0c6c",
       "version_major": 2,
       "version_minor": 0
      },
      "text/plain": [
       "HBox(children=(IntProgress(value=0, description='Epoch', max=10), HTML(value='')))"
      ]
     },
     "metadata": {},
     "output_type": "display_data"
    },
    {
     "name": "stdout",
     "output_type": "stream",
     "text": [
      "epoch      trn_loss   val_loss   accuracy                  \n",
      "    0      0.165525   0.15764    0.163636  \n",
      "    1      0.151003   0.150455   0.363636                  \n",
      "    2      0.137407   0.144086   0.363636                  \n",
      "    3      0.123162   0.13895    0.436364                  \n",
      "    4      0.108896   0.135629   0.472727                  \n",
      "    5      0.09488    0.132461   0.454545                   \n",
      "    6      0.081092   0.131443   0.454545                   \n",
      "    7      0.067699   0.132173   0.472727                   \n",
      "    8      0.055104   0.133518   0.490909                   \n",
      "    9      0.043725   0.135999   0.490909                   \n",
      "\n",
      "0.5672727272727273\n"
     ]
    },
    {
     "data": {
      "application/vnd.jupyter.widget-view+json": {
       "model_id": "7183da45bf844a1b94065086eb2a5206",
       "version_major": 2,
       "version_minor": 0
      },
      "text/plain": [
       "HBox(children=(IntProgress(value=0, description='Epoch', max=10), HTML(value='')))"
      ]
     },
     "metadata": {},
     "output_type": "display_data"
    },
    {
     "name": "stdout",
     "output_type": "stream",
     "text": [
      "epoch      trn_loss   val_loss   accuracy                  \n",
      "    0      0.164761   0.159221   0.163636  \n",
      "    1      0.151793   0.149797   0.381818                  \n",
      "    2      0.138816   0.138115   0.418182                  \n",
      "    3      0.124667   0.129389   0.472727                  \n",
      "    4      0.110181   0.124602   0.472727                  \n",
      "    5      0.095707   0.121806   0.472727                   \n",
      "    6      0.08144    0.120431   0.509091                   \n",
      "    7      0.067773   0.1196     0.545455                   \n",
      "    8      0.055098   0.119311   0.581818                   \n",
      "    9      0.043697   0.119185   0.563636                   \n",
      "\n",
      "0.5696969696969697\n"
     ]
    },
    {
     "data": {
      "application/vnd.jupyter.widget-view+json": {
       "model_id": "73ae413ca93d4714b3a017f801603519",
       "version_major": 2,
       "version_minor": 0
      },
      "text/plain": [
       "HBox(children=(IntProgress(value=0, description='Epoch', max=10), HTML(value='')))"
      ]
     },
     "metadata": {},
     "output_type": "display_data"
    },
    {
     "name": "stdout",
     "output_type": "stream",
     "text": [
      "epoch      trn_loss   val_loss   accuracy                  \n",
      "    0      0.165627   0.159669   0.236364  \n",
      "    1      0.151687   0.155438   0.272727                  \n",
      "    2      0.13831    0.148841   0.345455                  \n",
      "    3      0.123731   0.140598   0.418182                  \n",
      "    4      0.108782   0.135304   0.454545                  \n",
      "    5      0.094176   0.133159   0.454545                   \n",
      "    6      0.080056   0.130978   0.454545                   \n",
      "    7      0.066546   0.130839   0.509091                   \n",
      "    8      0.053981   0.131674   0.527273                   \n",
      "    9      0.042756   0.132647   0.527273                   \n",
      "\n",
      "0.5636363636363636\n"
     ]
    },
    {
     "data": {
      "application/vnd.jupyter.widget-view+json": {
       "model_id": "b5c415ba4a264cd7b5b66ae30d4a5755",
       "version_major": 2,
       "version_minor": 0
      },
      "text/plain": [
       "HBox(children=(IntProgress(value=0, description='Epoch', max=10), HTML(value='')))"
      ]
     },
     "metadata": {},
     "output_type": "display_data"
    },
    {
     "name": "stdout",
     "output_type": "stream",
     "text": [
      "epoch      trn_loss   val_loss   accuracy                  \n",
      "    0      0.164314   0.157126   0.290909  \n",
      "    1      0.149363   0.147202   0.4                       \n",
      "    2      0.135076   0.14009    0.4                       \n",
      "    3      0.120377   0.13612    0.454545                  \n",
      "    4      0.105714   0.134612   0.490909                  \n",
      "    5      0.091168   0.134247   0.472727                   \n",
      "    6      0.07688    0.134062   0.436364                   \n",
      "    7      0.063131   0.134467   0.436364                   \n",
      "    8      0.050471   0.135878   0.472727                   \n",
      "    9      0.03934    0.137662   0.490909                   \n",
      "\n",
      "0.5545454545454546\n"
     ]
    },
    {
     "data": {
      "application/vnd.jupyter.widget-view+json": {
       "model_id": "6fc9bda8f6bc4eb197ee7fa83c15ac52",
       "version_major": 2,
       "version_minor": 0
      },
      "text/plain": [
       "HBox(children=(IntProgress(value=0, description='Epoch', max=10), HTML(value='')))"
      ]
     },
     "metadata": {},
     "output_type": "display_data"
    },
    {
     "name": "stdout",
     "output_type": "stream",
     "text": [
      "epoch      trn_loss   val_loss   accuracy                  \n",
      "    0      0.164433   0.154197   0.345455  \n",
      "    1      0.150551   0.142462   0.4                       \n",
      "    2      0.137337   0.132234   0.490909                  \n",
      "    3      0.12349    0.123807   0.527273                  \n",
      "    4      0.109303   0.118214   0.563636                  \n",
      "    5      0.095135   0.113297   0.581818                   \n",
      "    6      0.08107    0.109423   0.6                        \n",
      "    7      0.0674     0.10764    0.6                        \n",
      "    8      0.05466    0.106896   0.618182                   \n",
      "    9      0.043247   0.106689   0.6                        \n",
      "\n",
      "0.5616161616161616\n"
     ]
    },
    {
     "data": {
      "application/vnd.jupyter.widget-view+json": {
       "model_id": "1f9afd513eec4889ae7b1bf46b96e21a",
       "version_major": 2,
       "version_minor": 0
      },
      "text/plain": [
       "HBox(children=(IntProgress(value=0, description='Epoch', max=10), HTML(value='')))"
      ]
     },
     "metadata": {},
     "output_type": "display_data"
    },
    {
     "name": "stdout",
     "output_type": "stream",
     "text": [
      "epoch      trn_loss   val_loss   accuracy                  \n",
      "    0      0.166347   0.152167   0.327273  \n",
      "    1      0.153512   0.140026   0.472727                  \n",
      "    2      0.140978   0.128719   0.527273                  \n",
      "    3      0.127152   0.118472   0.563636                  \n",
      "    4      0.112675   0.114009   0.6                       \n",
      "    5      0.098137   0.113236   0.581818                   \n",
      "    6      0.083759   0.112836   0.581818                   \n",
      "    7      0.0699     0.112408   0.581818                   \n",
      "    8      0.056905   0.112727   0.6                        \n",
      "    9      0.045209   0.113413   0.581818                   \n",
      "\n",
      "0.5654545454545454\n"
     ]
    },
    {
     "data": {
      "application/vnd.jupyter.widget-view+json": {
       "model_id": "698be5c38fd74a99929323de6524494a",
       "version_major": 2,
       "version_minor": 0
      },
      "text/plain": [
       "HBox(children=(IntProgress(value=0, description='Epoch', max=10), HTML(value='')))"
      ]
     },
     "metadata": {},
     "output_type": "display_data"
    },
    {
     "name": "stdout",
     "output_type": "stream",
     "text": [
      "epoch      trn_loss   val_loss   accuracy                  \n",
      "    0      0.166396   0.15962    0.309091  \n",
      "    1      0.152924   0.140441   0.381818                  \n",
      "    2      0.140161   0.122546   0.527273                  \n",
      "    3      0.126481   0.112897   0.618182                  \n",
      "    4      0.112391   0.108856   0.618182                  \n",
      "    5      0.098107   0.106936   0.636364                  \n",
      "    6      0.08386    0.105957   0.672727                   \n",
      "    7      0.069953   0.106049   0.690909                   \n",
      "    8      0.056857   0.107177   0.690909                   \n",
      "    9      0.045069   0.108702   0.672727                   \n",
      "\n",
      "0.5768595041322314\n"
     ]
    },
    {
     "data": {
      "application/vnd.jupyter.widget-view+json": {
       "model_id": "52128847b23e4135acef5e7cd3fbf26a",
       "version_major": 2,
       "version_minor": 0
      },
      "text/plain": [
       "HBox(children=(IntProgress(value=0, description='Epoch', max=10), HTML(value='')))"
      ]
     },
     "metadata": {},
     "output_type": "display_data"
    },
    {
     "name": "stdout",
     "output_type": "stream",
     "text": [
      "epoch      trn_loss   val_loss   accuracy                  \n",
      "    0      0.166228   0.157652   0.345455  \n",
      "    1      0.150271   0.146925   0.4                       \n",
      "    2      0.135457   0.138706   0.472727                  \n",
      "    3      0.120591   0.135537   0.454545                  \n",
      "    4      0.105999   0.135275   0.490909                  \n",
      "    5      0.091658   0.134852   0.545455                   \n",
      "    6      0.07762    0.134298   0.527273                   \n",
      "    7      0.064172   0.135792   0.527273                   \n",
      "    8      0.051745   0.137453   0.527273                   \n",
      "    9      0.040752   0.139004   0.527273                   \n",
      "\n",
      "0.5742424242424242\n"
     ]
    },
    {
     "data": {
      "application/vnd.jupyter.widget-view+json": {
       "model_id": "7565e60a5a8e48e9a407f2db544de5ef",
       "version_major": 2,
       "version_minor": 0
      },
      "text/plain": [
       "HBox(children=(IntProgress(value=0, description='Epoch', max=10), HTML(value='')))"
      ]
     },
     "metadata": {},
     "output_type": "display_data"
    },
    {
     "name": "stdout",
     "output_type": "stream",
     "text": [
      "epoch      trn_loss   val_loss   accuracy                  \n",
      "    0      0.165846   0.154501   0.418182  \n",
      "    1      0.151438   0.142562   0.436364                  \n",
      "    2      0.138125   0.131704   0.509091                  \n",
      "    3      0.124332   0.123823   0.618182                  \n",
      "    4      0.110395   0.118788   0.581818                  \n",
      "    5      0.096532   0.114271   0.636364                   \n",
      "    6      0.082711   0.110745   0.636364                   \n",
      "    7      0.069198   0.108905   0.636364                   \n",
      "    8      0.056395   0.10861    0.618182                   \n",
      "    9      0.044883   0.108922   0.618182                   \n",
      "\n",
      "0.579020979020979\n"
     ]
    },
    {
     "data": {
      "application/vnd.jupyter.widget-view+json": {
       "model_id": "477a4ac63e164c6aa229dbd37217cbf2",
       "version_major": 2,
       "version_minor": 0
      },
      "text/plain": [
       "HBox(children=(IntProgress(value=0, description='Epoch', max=10), HTML(value='')))"
      ]
     },
     "metadata": {},
     "output_type": "display_data"
    },
    {
     "name": "stdout",
     "output_type": "stream",
     "text": [
      "epoch      trn_loss   val_loss   accuracy                  \n",
      "    0      0.166471   0.151946   0.4       \n",
      "    1      0.151991   0.142302   0.4                       \n",
      "    2      0.138546   0.13614    0.436364                  \n",
      "    3      0.124223   0.133422   0.509091                  \n",
      "    4      0.109588   0.132264   0.509091                  \n",
      "    5      0.095011   0.130006   0.490909                   \n",
      "    6      0.08058    0.12919    0.454545                   \n",
      "    7      0.066705   0.12996    0.472727                   \n",
      "    8      0.053812   0.131048   0.472727                   \n",
      "    9      0.042302   0.132069   0.509091                   \n",
      "\n",
      "0.574025974025974\n"
     ]
    },
    {
     "data": {
      "application/vnd.jupyter.widget-view+json": {
       "model_id": "a256e10dc2b34e83a6140fa4c3895407",
       "version_major": 2,
       "version_minor": 0
      },
      "text/plain": [
       "HBox(children=(IntProgress(value=0, description='Epoch', max=10), HTML(value='')))"
      ]
     },
     "metadata": {},
     "output_type": "display_data"
    },
    {
     "name": "stdout",
     "output_type": "stream",
     "text": [
      "epoch      trn_loss   val_loss   accuracy                  \n",
      "    0      0.16597    0.157577   0.254545  \n",
      "    1      0.150771   0.150473   0.363636                  \n",
      "    2      0.136673   0.146545   0.418182                  \n",
      "    3      0.122133   0.143536   0.418182                  \n",
      "    4      0.107438   0.142181   0.454545                  \n",
      "    5      0.092755   0.142811   0.381818                   \n",
      "    6      0.078369   0.143232   0.4                        \n",
      "    7      0.064713   0.144442   0.418182                   \n",
      "    8      0.052117   0.145268   0.454545                   \n",
      "    9      0.040938   0.145753   0.418182                   \n",
      "\n",
      "0.566060606060606\n"
     ]
    },
    {
     "data": {
      "application/vnd.jupyter.widget-view+json": {
       "model_id": "b2fb7baf0dda46b3a4637fa8b30d12b8",
       "version_major": 2,
       "version_minor": 0
      },
      "text/plain": [
       "HBox(children=(IntProgress(value=0, description='Epoch', max=10), HTML(value='')))"
      ]
     },
     "metadata": {},
     "output_type": "display_data"
    },
    {
     "name": "stdout",
     "output_type": "stream",
     "text": [
      "epoch      trn_loss   val_loss   accuracy                  \n",
      "    0      0.165476   0.153567   0.254545  \n",
      "    1      0.150869   0.148402   0.309091                  \n",
      "    2      0.136849   0.142397   0.345455                  \n",
      "    3      0.122356   0.135557   0.472727                  \n",
      "    4      0.107715   0.129922   0.472727                  \n",
      "    5      0.093125   0.126375   0.472727                   \n",
      "    6      0.078781   0.124526   0.472727                   \n",
      "    7      0.065008   0.124896   0.472727                   \n",
      "    8      0.052361   0.12654    0.490909                   \n",
      "    9      0.041222   0.127895   0.490909                   \n",
      "\n",
      "0.5613636363636364\n"
     ]
    },
    {
     "data": {
      "application/vnd.jupyter.widget-view+json": {
       "model_id": "f159c0f8cec247028378419bdd32f0ac",
       "version_major": 2,
       "version_minor": 0
      },
      "text/plain": [
       "HBox(children=(IntProgress(value=0, description='Epoch', max=10), HTML(value='')))"
      ]
     },
     "metadata": {},
     "output_type": "display_data"
    },
    {
     "name": "stdout",
     "output_type": "stream",
     "text": [
      "epoch      trn_loss   val_loss   accuracy                  \n",
      "    0      0.166172   0.155145   0.236364  \n",
      "    1      0.151735   0.143768   0.472727                  \n",
      "    2      0.138098   0.135893   0.436364                  \n",
      "    3      0.123693   0.131108   0.436364                  \n",
      "    4      0.109196   0.129446   0.454545                  \n",
      "    5      0.095026   0.128284   0.490909                   \n",
      "    6      0.081145   0.127659   0.509091                   \n",
      "    7      0.067778   0.127863   0.509091                   \n",
      "    8      0.055282   0.128562   0.490909                   \n",
      "    9      0.044008   0.129869   0.509091                   \n",
      "\n",
      "0.558288770053476\n"
     ]
    },
    {
     "data": {
      "application/vnd.jupyter.widget-view+json": {
       "model_id": "7d5f9e180e744d20b88942eaf549d075",
       "version_major": 2,
       "version_minor": 0
      },
      "text/plain": [
       "HBox(children=(IntProgress(value=0, description='Epoch', max=10), HTML(value='')))"
      ]
     },
     "metadata": {},
     "output_type": "display_data"
    },
    {
     "name": "stdout",
     "output_type": "stream",
     "text": [
      "epoch      trn_loss   val_loss   accuracy                  \n",
      "    0      0.165788   0.160954   0.272727  \n",
      "    1      0.152563   0.151724   0.436364                  \n",
      "    2      0.140041   0.139881   0.490909                  \n",
      "    3      0.126245   0.129973   0.472727                  \n",
      "    4      0.111843   0.124575   0.527273                  \n",
      "    5      0.097516   0.121908   0.545455                  \n",
      "    6      0.083453   0.121176   0.563636                   \n",
      "    7      0.069867   0.121627   0.563636                   \n",
      "    8      0.057136   0.123265   0.545455                   \n",
      "    9      0.045667   0.124887   0.527273                   \n",
      "\n",
      "0.5585858585858586\n"
     ]
    },
    {
     "data": {
      "application/vnd.jupyter.widget-view+json": {
       "model_id": "45c3ef8bfb3b4ba289b3c8090e5a5482",
       "version_major": 2,
       "version_minor": 0
      },
      "text/plain": [
       "HBox(children=(IntProgress(value=0, description='Epoch', max=10), HTML(value='')))"
      ]
     },
     "metadata": {},
     "output_type": "display_data"
    },
    {
     "name": "stdout",
     "output_type": "stream",
     "text": [
      "epoch      trn_loss   val_loss   accuracy                  \n",
      "    0      0.165123   0.154851   0.381818  \n",
      "    1      0.151618   0.147373   0.345455                  \n",
      "    2      0.138673   0.141582   0.436364                  \n",
      "    3      0.124865   0.137124   0.490909                  \n",
      "    4      0.110703   0.135683   0.490909                  \n",
      "    5      0.096572   0.135437   0.490909                   \n",
      "    6      0.082595   0.135548   0.472727                   \n",
      "    7      0.069034   0.136417   0.418182                   \n",
      "    8      0.05633    0.137491   0.418182                   \n",
      "    9      0.044864   0.13794    0.454545                   \n",
      "\n",
      "0.5550239234449761\n"
     ]
    },
    {
     "data": {
      "application/vnd.jupyter.widget-view+json": {
       "model_id": "18ee0c5bf641492898934ceaa6eeef70",
       "version_major": 2,
       "version_minor": 0
      },
      "text/plain": [
       "HBox(children=(IntProgress(value=0, description='Epoch', max=10), HTML(value='')))"
      ]
     },
     "metadata": {},
     "output_type": "display_data"
    },
    {
     "name": "stdout",
     "output_type": "stream",
     "text": [
      "epoch      trn_loss   val_loss   accuracy                  \n",
      "    0      0.164613   0.153869   0.290909  \n",
      "    1      0.151629   0.142333   0.436364                  \n",
      "    2      0.138711   0.133196   0.509091                  \n",
      "    3      0.124858   0.126244   0.581818                  \n",
      "    4      0.110714   0.121609   0.6                       \n",
      "    5      0.096667   0.120116   0.6                        \n",
      "    6      0.082872   0.119384   0.563636                   \n",
      "    7      0.069555   0.119634   0.527273                   \n",
      "    8      0.057028   0.120172   0.527273                   \n",
      "    9      0.045658   0.120582   0.545455                   \n",
      "\n",
      "0.5572727272727273\n"
     ]
    },
    {
     "data": {
      "application/vnd.jupyter.widget-view+json": {
       "model_id": "9516645e17bb4c9a91de00610ea007a2",
       "version_major": 2,
       "version_minor": 0
      },
      "text/plain": [
       "HBox(children=(IntProgress(value=0, description='Epoch', max=10), HTML(value='')))"
      ]
     },
     "metadata": {},
     "output_type": "display_data"
    },
    {
     "name": "stdout",
     "output_type": "stream",
     "text": [
      "epoch      trn_loss   val_loss   accuracy                  \n",
      "    0      0.164667   0.153862   0.4       \n",
      "    1      0.150287   0.143365   0.454545                  \n",
      "    2      0.136629   0.133608   0.509091                  \n",
      "    3      0.122407   0.126668   0.509091                  \n",
      "    4      0.10808    0.122395   0.563636                  \n",
      "    5      0.093847   0.119756   0.563636                   \n",
      "    6      0.079846   0.119511   0.545455                   \n",
      "    7      0.066389   0.119824   0.545455                   \n",
      "    8      0.053874   0.120154   0.527273                   \n",
      "    9      0.042669   0.120115   0.509091                   \n",
      "\n",
      "0.5575757575757576\n"
     ]
    },
    {
     "data": {
      "application/vnd.jupyter.widget-view+json": {
       "model_id": "7f8aa39ac16f4419a241585e43a75cea",
       "version_major": 2,
       "version_minor": 0
      },
      "text/plain": [
       "HBox(children=(IntProgress(value=0, description='Epoch', max=10), HTML(value='')))"
      ]
     },
     "metadata": {},
     "output_type": "display_data"
    },
    {
     "name": "stdout",
     "output_type": "stream",
     "text": [
      "epoch      trn_loss   val_loss   accuracy                  \n",
      "    0      0.164469   0.153253   0.345455  \n",
      "    1      0.150948   0.146778   0.454545                  \n",
      "    2      0.137176   0.140086   0.454545                  \n",
      "    3      0.12225    0.136195   0.490909                  \n",
      "    4      0.107131   0.135652   0.6                       \n",
      "    5      0.092379   0.134761   0.6                        \n",
      "    6      0.078137   0.135314   0.581818                   \n",
      "    7      0.064637   0.136805   0.545455                   \n",
      "    8      0.052188   0.137494   0.527273                   \n",
      "    9      0.04114    0.138085   0.527273                   \n",
      "\n",
      "0.5595041322314049\n"
     ]
    },
    {
     "data": {
      "application/vnd.jupyter.widget-view+json": {
       "model_id": "e3eef9c63b0144c5b0d3c30aea16039e",
       "version_major": 2,
       "version_minor": 0
      },
      "text/plain": [
       "HBox(children=(IntProgress(value=0, description='Epoch', max=10), HTML(value='')))"
      ]
     },
     "metadata": {},
     "output_type": "display_data"
    },
    {
     "name": "stdout",
     "output_type": "stream",
     "text": [
      "epoch      trn_loss   val_loss   accuracy                  \n",
      "    0      0.165835   0.157511   0.236364  \n",
      "    1      0.151216   0.15201    0.345455                  \n",
      "    2      0.137102   0.147055   0.363636                  \n",
      "    3      0.122274   0.142802   0.345455                  \n",
      "    4      0.107396   0.13951    0.436364                  \n",
      "    5      0.092736   0.137351   0.436364                   \n",
      "    6      0.078536   0.136447   0.436364                   \n",
      "    7      0.065018   0.138232   0.436364                   \n",
      "    8      0.052548   0.139843   0.418182                   \n",
      "    9      0.04147    0.141856   0.4                        \n",
      "\n",
      "0.5541501976284585\n"
     ]
    },
    {
     "data": {
      "application/vnd.jupyter.widget-view+json": {
       "model_id": "7111cbcb1f704f2f8e97d7d06dc768c1",
       "version_major": 2,
       "version_minor": 0
      },
      "text/plain": [
       "HBox(children=(IntProgress(value=0, description='Epoch', max=10), HTML(value='')))"
      ]
     },
     "metadata": {},
     "output_type": "display_data"
    },
    {
     "name": "stdout",
     "output_type": "stream",
     "text": [
      "epoch      trn_loss   val_loss   accuracy                  \n",
      "    0      0.165517   0.152702   0.381818  \n",
      "    1      0.151519   0.142025   0.527273                  \n",
      "    2      0.138545   0.131506   0.563636                  \n",
      "    3      0.124735   0.122271   0.6                       \n",
      "    4      0.110285   0.117278   0.618182                  \n",
      "    5      0.095726   0.116597   0.563636                   \n",
      "    6      0.081364   0.117034   0.581818                   \n",
      "    7      0.067583   0.11804    0.581818                   \n",
      "    8      0.054735   0.118704   0.618182                   \n",
      "    9      0.043221   0.119456   0.618182                   \n",
      "\n",
      "0.5568181818181818\n"
     ]
    },
    {
     "data": {
      "application/vnd.jupyter.widget-view+json": {
       "model_id": "89a465de4ae341e7afb79dbb73b27195",
       "version_major": 2,
       "version_minor": 0
      },
      "text/plain": [
       "HBox(children=(IntProgress(value=0, description='Epoch', max=10), HTML(value='')))"
      ]
     },
     "metadata": {},
     "output_type": "display_data"
    },
    {
     "name": "stdout",
     "output_type": "stream",
     "text": [
      "epoch      trn_loss   val_loss   accuracy                  \n",
      "    0      0.166435   0.152041   0.436364  \n",
      "    1      0.15262    0.137072   0.490909                  \n",
      "    2      0.139678   0.12438    0.527273                  \n",
      "    3      0.126115   0.114819   0.545455                  \n",
      "    4      0.112155   0.110139   0.6                       \n",
      "    5      0.098126   0.108072   0.636364                  \n",
      "    6      0.084215   0.106774   0.636364                   \n",
      "    7      0.070623   0.106651   0.618182                   \n",
      "    8      0.057729   0.10781    0.636364                   \n",
      "    9      0.046036   0.109527   0.636364                   \n",
      "\n",
      "0.56\n"
     ]
    },
    {
     "data": {
      "application/vnd.jupyter.widget-view+json": {
       "model_id": "39d75de83c064675809cae674c850ea9",
       "version_major": 2,
       "version_minor": 0
      },
      "text/plain": [
       "HBox(children=(IntProgress(value=0, description='Epoch', max=10), HTML(value='')))"
      ]
     },
     "metadata": {},
     "output_type": "display_data"
    },
    {
     "name": "stdout",
     "output_type": "stream",
     "text": [
      "epoch      trn_loss   val_loss   accuracy                  \n",
      "    0      0.16409    0.15102    0.472727  \n",
      "    1      0.150503   0.137269   0.490909                  \n",
      "    2      0.137229   0.125386   0.545455                  \n",
      "    3      0.123311   0.118578   0.563636                  \n",
      "    4      0.109229   0.11586    0.636364                  \n",
      "    5      0.095155   0.114326   0.6                        \n",
      "    6      0.081269   0.113453   0.581818                   \n",
      "    7      0.067795   0.112524   0.618182                   \n",
      "    8      0.055211   0.113083   0.636364                   \n",
      "    9      0.043834   0.113578   0.636364                   \n",
      "\n",
      "0.5629370629370629\n"
     ]
    },
    {
     "data": {
      "application/vnd.jupyter.widget-view+json": {
       "model_id": "fe26ae534642439db1eea97a843cb5f6",
       "version_major": 2,
       "version_minor": 0
      },
      "text/plain": [
       "HBox(children=(IntProgress(value=0, description='Epoch', max=10), HTML(value='')))"
      ]
     },
     "metadata": {},
     "output_type": "display_data"
    },
    {
     "name": "stdout",
     "output_type": "stream",
     "text": [
      "epoch      trn_loss   val_loss   accuracy                  \n",
      "    0      0.166816   0.156355   0.272727  \n",
      "    1      0.151617   0.148561   0.345455                  \n",
      "    2      0.137574   0.142058   0.418182                  \n",
      "    3      0.123382   0.135947   0.472727                  \n",
      "    4      0.109183   0.130409   0.509091                  \n",
      "    5      0.095225   0.125813   0.527273                   \n",
      "    6      0.08159    0.12308    0.527273                   \n",
      "    7      0.068325   0.122437   0.563636                   \n",
      "    8      0.055744   0.122587   0.545455                   \n",
      "    9      0.044227   0.124135   0.581818                   \n",
      "\n",
      "0.5636363636363636\n"
     ]
    },
    {
     "data": {
      "application/vnd.jupyter.widget-view+json": {
       "model_id": "92b390a3d2354b13a82c33bbe2345150",
       "version_major": 2,
       "version_minor": 0
      },
      "text/plain": [
       "HBox(children=(IntProgress(value=0, description='Epoch', max=10), HTML(value='')))"
      ]
     },
     "metadata": {},
     "output_type": "display_data"
    },
    {
     "name": "stdout",
     "output_type": "stream",
     "text": [
      "epoch      trn_loss   val_loss   accuracy                  \n",
      "    0      0.16409    0.160936   0.4       \n",
      "    1      0.150723   0.149776   0.363636                  \n",
      "    2      0.137366   0.143638   0.4                       \n",
      "    3      0.123034   0.14186    0.381818                  \n",
      "    4      0.108592   0.141938   0.454545                  \n",
      "    5      0.094394   0.141283   0.454545                   \n",
      "    6      0.08055    0.14095    0.436364                   \n",
      "    7      0.067272   0.141175   0.454545                   \n",
      "    8      0.054861   0.141936   0.490909                   \n",
      "    9      0.043743   0.143155   0.454545                   \n",
      "\n",
      "0.561038961038961\n"
     ]
    },
    {
     "data": {
      "application/vnd.jupyter.widget-view+json": {
       "model_id": "4030a47c15dc4f3eb40f404ce85a833b",
       "version_major": 2,
       "version_minor": 0
      },
      "text/plain": [
       "HBox(children=(IntProgress(value=0, description='Epoch', max=10), HTML(value='')))"
      ]
     },
     "metadata": {},
     "output_type": "display_data"
    },
    {
     "name": "stdout",
     "output_type": "stream",
     "text": [
      "epoch      trn_loss   val_loss   accuracy                  \n",
      "    0      0.165412   0.153492   0.345455  \n",
      "    1      0.151278   0.142263   0.436364                  \n",
      "    2      0.137697   0.131042   0.545455                  \n",
      "    3      0.123165   0.122683   0.545455                  \n",
      "    4      0.108312   0.118681   0.563636                  \n",
      "    5      0.093685   0.116419   0.581818                   \n",
      "    6      0.07937    0.115345   0.6                        \n",
      "    7      0.065696   0.115591   0.6                        \n",
      "    8      0.053098   0.117199   0.581818                   \n",
      "    9      0.041949   0.118901   0.563636                   \n",
      "\n",
      "0.5623824451410658\n"
     ]
    },
    {
     "data": {
      "application/vnd.jupyter.widget-view+json": {
       "model_id": "d63a06f293a0457892f6a0702cc840ed",
       "version_major": 2,
       "version_minor": 0
      },
      "text/plain": [
       "HBox(children=(IntProgress(value=0, description='Epoch', max=10), HTML(value='')))"
      ]
     },
     "metadata": {},
     "output_type": "display_data"
    },
    {
     "name": "stdout",
     "output_type": "stream",
     "text": [
      "epoch      trn_loss   val_loss   accuracy                  \n",
      "    0      0.163981   0.157331   0.236364  \n",
      "    1      0.150988   0.150116   0.363636                  \n",
      "    2      0.138006   0.143152   0.381818                  \n",
      "    3      0.123851   0.138026   0.436364                  \n",
      "    4      0.10943    0.135579   0.454545                  \n",
      "    5      0.09524    0.134239   0.490909                   \n",
      "    6      0.081298   0.132799   0.509091                   \n",
      "    7      0.067837   0.132233   0.563636                   \n",
      "    8      0.05523    0.132535   0.581818                   \n",
      "    9      0.043856   0.132264   0.6                        \n",
      "\n",
      "0.5636363636363636\n"
     ]
    },
    {
     "data": {
      "application/vnd.jupyter.widget-view+json": {
       "model_id": "9786d2e2ca6d416e92b07e9f900a5bbc",
       "version_major": 2,
       "version_minor": 0
      },
      "text/plain": [
       "HBox(children=(IntProgress(value=0, description='Epoch', max=10), HTML(value='')))"
      ]
     },
     "metadata": {},
     "output_type": "display_data"
    },
    {
     "name": "stdout",
     "output_type": "stream",
     "text": [
      "epoch      trn_loss   val_loss   accuracy                  \n",
      "    0      0.164986   0.159327   0.2       \n",
      "    1      0.149656   0.155442   0.236364                  \n",
      "    2      0.135579   0.152232   0.327273                  \n",
      "    3      0.121329   0.148107   0.345455                  \n",
      "    4      0.106886   0.144754   0.381818                  \n",
      "    5      0.092534   0.141196   0.436364                   \n",
      "    6      0.078512   0.1403     0.418182                   \n",
      "    7      0.065099   0.140958   0.436364                   \n",
      "    8      0.052659   0.142103   0.472727                   \n",
      "    9      0.041562   0.143985   0.472727                   \n",
      "\n",
      "0.5607038123167155\n"
     ]
    },
    {
     "data": {
      "application/vnd.jupyter.widget-view+json": {
       "model_id": "801fc3ceeb4d43918a2473c7b9efb3bf",
       "version_major": 2,
       "version_minor": 0
      },
      "text/plain": [
       "HBox(children=(IntProgress(value=0, description='Epoch', max=10), HTML(value='')))"
      ]
     },
     "metadata": {},
     "output_type": "display_data"
    },
    {
     "name": "stdout",
     "output_type": "stream",
     "text": [
      "epoch      trn_loss   val_loss   accuracy                  \n",
      "    0      0.166553   0.153581   0.290909  \n",
      "    1      0.152333   0.143082   0.418182                  \n",
      "    2      0.139092   0.135073   0.418182                  \n",
      "    3      0.125124   0.128281   0.509091                  \n",
      "    4      0.11064    0.12494    0.545455                  \n",
      "    5      0.096007   0.122792   0.545455                   \n",
      "    6      0.081604   0.121403   0.545455                   \n",
      "    7      0.067801   0.120468   0.563636                   \n",
      "    8      0.054963   0.120713   0.545455                   \n",
      "    9      0.043514   0.121245   0.563636                   \n",
      "\n",
      "0.5607954545454545\n"
     ]
    },
    {
     "data": {
      "application/vnd.jupyter.widget-view+json": {
       "model_id": "9e8937c59d61484785e1e419196c7355",
       "version_major": 2,
       "version_minor": 0
      },
      "text/plain": [
       "HBox(children=(IntProgress(value=0, description='Epoch', max=10), HTML(value='')))"
      ]
     },
     "metadata": {},
     "output_type": "display_data"
    },
    {
     "name": "stdout",
     "output_type": "stream",
     "text": [
      "epoch      trn_loss   val_loss   accuracy                  \n",
      "    0      0.167336   0.15975    0.254545  \n",
      "    1      0.15354    0.145482   0.381818                  \n",
      "    2      0.140479   0.134215   0.436364                  \n",
      "    3      0.126222   0.125143   0.472727                  \n",
      "    4      0.11149    0.120997   0.509091                  \n",
      "    5      0.096868   0.119195   0.581818                   \n",
      "    6      0.082616   0.119369   0.563636                   \n",
      "    7      0.068921   0.119854   0.545455                   \n",
      "    8      0.056118   0.120719   0.527273                   \n",
      "    9      0.044567   0.122044   0.527273                   \n",
      "\n",
      "0.5614325068870524\n"
     ]
    },
    {
     "data": {
      "application/vnd.jupyter.widget-view+json": {
       "model_id": "c475e36f828a4ea3af0c60702622944d",
       "version_major": 2,
       "version_minor": 0
      },
      "text/plain": [
       "HBox(children=(IntProgress(value=0, description='Epoch', max=10), HTML(value='')))"
      ]
     },
     "metadata": {},
     "output_type": "display_data"
    },
    {
     "name": "stdout",
     "output_type": "stream",
     "text": [
      "epoch      trn_loss   val_loss   accuracy                  \n",
      "    0      0.166118   0.154885   0.290909  \n",
      "    1      0.152634   0.147613   0.418182                  \n",
      "    2      0.139674   0.140655   0.4                       \n",
      "    3      0.125607   0.134761   0.472727                  \n",
      "    4      0.111209   0.130608   0.454545                  \n",
      "    5      0.096939   0.128705   0.490909                   \n",
      "    6      0.082912   0.126503   0.490909                   \n",
      "    7      0.069328   0.12533    0.563636                   \n",
      "    8      0.056572   0.125633   0.563636                   \n",
      "    9      0.045079   0.126325   0.545455                  \n",
      "\n",
      "0.5614973262032086\n"
     ]
    },
    {
     "data": {
      "application/vnd.jupyter.widget-view+json": {
       "model_id": "dc83242b01ca4114973801c52bedc30d",
       "version_major": 2,
       "version_minor": 0
      },
      "text/plain": [
       "HBox(children=(IntProgress(value=0, description='Epoch', max=10), HTML(value='')))"
      ]
     },
     "metadata": {},
     "output_type": "display_data"
    },
    {
     "name": "stdout",
     "output_type": "stream",
     "text": [
      "epoch      trn_loss   val_loss   accuracy                  \n",
      "    0      0.165125   0.150529   0.436364  \n",
      "    1      0.150368   0.146664   0.418182                  \n",
      "    2      0.136299   0.145482   0.472727                  \n",
      "    3      0.121681   0.143958   0.454545                  \n",
      "    4      0.107203   0.14197    0.454545                  \n",
      "    5      0.093112   0.140122   0.418182                   \n",
      "    6      0.079414   0.138179   0.4                        \n",
      "    7      0.066219   0.138152   0.4                        \n",
      "    8      0.053936   0.137439   0.436364                   \n",
      "    9      0.042894   0.13655    0.454545                   \n",
      "\n",
      "0.558961038961039\n"
     ]
    },
    {
     "data": {
      "application/vnd.jupyter.widget-view+json": {
       "model_id": "20ede80c21a64554b11150bf26d587ae",
       "version_major": 2,
       "version_minor": 0
      },
      "text/plain": [
       "HBox(children=(IntProgress(value=0, description='Epoch', max=10), HTML(value='')))"
      ]
     },
     "metadata": {},
     "output_type": "display_data"
    },
    {
     "name": "stdout",
     "output_type": "stream",
     "text": [
      "epoch      trn_loss   val_loss   accuracy                  \n",
      "    0      0.16538    0.15255    0.272727  \n",
      "    1      0.151537   0.147723   0.418182                  \n",
      "    2      0.13845    0.139706   0.454545                  \n",
      "    3      0.1244     0.131565   0.472727                  \n",
      "    4      0.109769   0.125449   0.527273                  \n",
      "    5      0.094975   0.121476   0.581818                   \n",
      "    6      0.080312   0.118373   0.618182                   \n",
      "    7      0.06618    0.119297   0.6                        \n",
      "    8      0.05319    0.120934   0.6                        \n",
      "    9      0.041774   0.12352    0.581818                   \n",
      "\n",
      "0.5606060606060606\n"
     ]
    },
    {
     "data": {
      "application/vnd.jupyter.widget-view+json": {
       "model_id": "20961901b8864614bdd13154866fd700",
       "version_major": 2,
       "version_minor": 0
      },
      "text/plain": [
       "HBox(children=(IntProgress(value=0, description='Epoch', max=10), HTML(value='')))"
      ]
     },
     "metadata": {},
     "output_type": "display_data"
    },
    {
     "name": "stdout",
     "output_type": "stream",
     "text": [
      "epoch      trn_loss   val_loss   accuracy                  \n",
      "    0      0.165765   0.15963    0.127273  \n",
      "    1      0.15109    0.146367   0.472727                  \n",
      "    2      0.137128   0.133625   0.509091                  \n",
      "    3      0.122388   0.125064   0.545455                  \n",
      "    4      0.107461   0.120884   0.527273                  \n",
      "    5      0.092754   0.118814   0.563636                   \n",
      "    6      0.078474   0.117314   0.545455                   \n",
      "    7      0.064827   0.117365   0.527273                   \n",
      "    8      0.052214   0.118305   0.527273                   \n",
      "    9      0.041025   0.119493   0.527273                   \n",
      "\n",
      "0.5606879606879607\n"
     ]
    },
    {
     "data": {
      "application/vnd.jupyter.widget-view+json": {
       "model_id": "1c17794658834dceb032b3509c567ca6",
       "version_major": 2,
       "version_minor": 0
      },
      "text/plain": [
       "HBox(children=(IntProgress(value=0, description='Epoch', max=10), HTML(value='')))"
      ]
     },
     "metadata": {},
     "output_type": "display_data"
    },
    {
     "name": "stdout",
     "output_type": "stream",
     "text": [
      "epoch      trn_loss   val_loss   accuracy                  \n",
      "    0      0.164607   0.158413   0.145455  \n",
      "    1      0.150566   0.150479   0.327273                  \n",
      "    2      0.136961   0.144505   0.381818                  \n",
      "    3      0.122631   0.140514   0.436364                  \n",
      "    4      0.108063   0.137857   0.490909                  \n",
      "    5      0.09359    0.136447   0.490909                   \n",
      "    6      0.079529   0.137508   0.490909                   \n",
      "    7      0.066175   0.138951   0.509091                   \n",
      "    8      0.053795   0.140085   0.527273                   \n",
      "    9      0.042691   0.140984   0.527273                   \n",
      "\n",
      "0.5598086124401914\n"
     ]
    },
    {
     "data": {
      "application/vnd.jupyter.widget-view+json": {
       "model_id": "0ef71c2601ca40bfab5e79f1752e42bf",
       "version_major": 2,
       "version_minor": 0
      },
      "text/plain": [
       "HBox(children=(IntProgress(value=0, description='Epoch', max=10), HTML(value='')))"
      ]
     },
     "metadata": {},
     "output_type": "display_data"
    },
    {
     "name": "stdout",
     "output_type": "stream",
     "text": [
      "epoch      trn_loss   val_loss   accuracy                  \n",
      "    0      0.164879   0.153274   0.290909  \n",
      "    1      0.149019   0.137798   0.527273                  \n",
      "    2      0.134635   0.127056   0.581818                  \n",
      "    3      0.120413   0.120741   0.563636                  \n",
      "    4      0.106231   0.116922   0.581818                  \n",
      "    5      0.092099   0.11336    0.6                        \n",
      "    6      0.078132   0.110634   0.6                        \n",
      "    7      0.064693   0.10942    0.618182                   \n",
      "    8      0.052228   0.109121   0.618182                   \n",
      "    9      0.041128   0.109278   0.636364                   \n",
      "\n",
      "0.5617715617715617\n"
     ]
    },
    {
     "data": {
      "application/vnd.jupyter.widget-view+json": {
       "model_id": "68ec724429704e80b2bbbd563890fed2",
       "version_major": 2,
       "version_minor": 0
      },
      "text/plain": [
       "HBox(children=(IntProgress(value=0, description='Epoch', max=10), HTML(value='')))"
      ]
     },
     "metadata": {},
     "output_type": "display_data"
    },
    {
     "name": "stdout",
     "output_type": "stream",
     "text": [
      "epoch      trn_loss   val_loss   accuracy                  \n",
      "    0      0.165239   0.157465   0.309091  \n",
      "    1      0.151802   0.145241   0.454545                  \n",
      "    2      0.138475   0.134183   0.418182                  \n",
      "    3      0.12412    0.126124   0.509091                  \n",
      "    4      0.109575   0.121492   0.545455                  \n",
      "    5      0.095131   0.118708   0.509091                   \n",
      "    6      0.080989   0.116875   0.509091                   \n",
      "    7      0.067415   0.115978   0.527273                   \n",
      "    8      0.054734   0.115327   0.527273                   \n",
      "    9      0.043343   0.114977   0.509091                   \n",
      "\n",
      "0.5613636363636364\n"
     ]
    },
    {
     "data": {
      "application/vnd.jupyter.widget-view+json": {
       "model_id": "1cee69b2303047519fc74e43c628e524",
       "version_major": 2,
       "version_minor": 0
      },
      "text/plain": [
       "HBox(children=(IntProgress(value=0, description='Epoch', max=10), HTML(value='')))"
      ]
     },
     "metadata": {},
     "output_type": "display_data"
    },
    {
     "name": "stdout",
     "output_type": "stream",
     "text": [
      "epoch      trn_loss   val_loss   accuracy                  \n",
      "    0      0.166445   0.156487   0.345455  \n",
      "    1      0.151882   0.153235   0.381818                  \n",
      "    2      0.138584   0.148906   0.327273                  \n",
      "    3      0.124601   0.145336   0.381818                  \n",
      "    4      0.110269   0.144824   0.436364                  \n",
      "    5      0.096001   0.145198   0.418182                   \n",
      "    6      0.081946   0.144711   0.418182                   \n",
      "    7      0.068374   0.145318   0.454545                   \n",
      "    8      0.055663   0.14691    0.454545                   \n",
      "    9      0.044234   0.147356   0.454545                   \n",
      "\n",
      "0.5587583148558758\n"
     ]
    },
    {
     "data": {
      "application/vnd.jupyter.widget-view+json": {
       "model_id": "9497c695ae0b4a35bd5b27be556f3d05",
       "version_major": 2,
       "version_minor": 0
      },
      "text/plain": [
       "HBox(children=(IntProgress(value=0, description='Epoch', max=10), HTML(value='')))"
      ]
     },
     "metadata": {},
     "output_type": "display_data"
    },
    {
     "name": "stdout",
     "output_type": "stream",
     "text": [
      "epoch      trn_loss   val_loss   accuracy                  \n",
      "    0      0.165252   0.151585   0.381818  \n",
      "    1      0.15131    0.13825    0.454545                  \n",
      "    2      0.138107   0.126338   0.527273                  \n",
      "    3      0.124087   0.116888   0.6                       \n",
      "    4      0.109711   0.110495   0.618182                  \n",
      "    5      0.095339   0.106736   0.6                        \n",
      "    6      0.081076   0.10475    0.6                        \n",
      "    7      0.067179   0.10457    0.581818                   \n",
      "    8      0.054215   0.105055   0.581818                   \n",
      "    9      0.042634   0.106188   0.6                        \n",
      "\n",
      "0.5601731601731602\n"
     ]
    },
    {
     "data": {
      "application/vnd.jupyter.widget-view+json": {
       "model_id": "203a75f0a9c249ac89a9df126f9d8fae",
       "version_major": 2,
       "version_minor": 0
      },
      "text/plain": [
       "HBox(children=(IntProgress(value=0, description='Epoch', max=10), HTML(value='')))"
      ]
     },
     "metadata": {},
     "output_type": "display_data"
    },
    {
     "name": "stdout",
     "output_type": "stream",
     "text": [
      "epoch      trn_loss   val_loss   accuracy                  \n",
      "    0      0.165414   0.158046   0.2       \n",
      "    1      0.151586   0.145604   0.327273                  \n",
      "    2      0.13824    0.135105   0.472727                  \n",
      "    3      0.124047   0.128118   0.527273                  \n",
      "    4      0.10962    0.124194   0.527273                  \n",
      "    5      0.095349   0.122623   0.563636                  \n",
      "    6      0.081324   0.121905   0.581818                   \n",
      "    7      0.06772    0.122339   0.6                        \n",
      "    8      0.054928   0.123495   0.581818                   \n",
      "    9      0.043385   0.125345   0.563636                   \n",
      "\n",
      "0.5610993657505285\n"
     ]
    },
    {
     "data": {
      "application/vnd.jupyter.widget-view+json": {
       "model_id": "87f512431d5c4088baae1d9826c7c7a8",
       "version_major": 2,
       "version_minor": 0
      },
      "text/plain": [
       "HBox(children=(IntProgress(value=0, description='Epoch', max=10), HTML(value='')))"
      ]
     },
     "metadata": {},
     "output_type": "display_data"
    },
    {
     "name": "stdout",
     "output_type": "stream",
     "text": [
      "epoch      trn_loss   val_loss   accuracy                  \n",
      "    0      0.166265   0.155393   0.381818  \n",
      "    1      0.151634   0.148249   0.363636                  \n",
      "    2      0.137999   0.141378   0.381818                  \n",
      "    3      0.123815   0.134069   0.4                       \n",
      "    4      0.109473   0.129099   0.472727                  \n",
      "    5      0.095277   0.125866   0.527273                   \n",
      "    6      0.081306   0.124532   0.527273                   \n",
      "    7      0.067883   0.12407    0.527273                   \n",
      "    8      0.055328   0.124438   0.563636                   \n",
      "    9      0.044036   0.125335   0.545455                   \n",
      "\n",
      "0.5611570247933885\n"
     ]
    },
    {
     "data": {
      "application/vnd.jupyter.widget-view+json": {
       "model_id": "cfb81534410d4623aecf692e5033262d",
       "version_major": 2,
       "version_minor": 0
      },
      "text/plain": [
       "HBox(children=(IntProgress(value=0, description='Epoch', max=10), HTML(value='')))"
      ]
     },
     "metadata": {},
     "output_type": "display_data"
    },
    {
     "name": "stdout",
     "output_type": "stream",
     "text": [
      "epoch      trn_loss   val_loss   accuracy                  \n",
      "    0      0.165701   0.152221   0.454545  \n",
      "    1      0.151502   0.134943   0.509091                  \n",
      "    2      0.138146   0.120816   0.581818                  \n",
      "    3      0.124171   0.110983   0.6                       \n",
      "    4      0.109898   0.105241   0.672727                  \n",
      "    5      0.095682   0.101863   0.690909                   \n",
      "    6      0.081659   0.099501   0.690909                   \n",
      "    7      0.06812    0.09793    0.727273                   \n",
      "    8      0.055429   0.096201   0.727273                   \n",
      "    9      0.044018   0.095468   0.781818                   \n",
      "\n",
      "0.566060606060606\n"
     ]
    },
    {
     "data": {
      "application/vnd.jupyter.widget-view+json": {
       "model_id": "ceaa692577cc4dd5a7427ee5694ff423",
       "version_major": 2,
       "version_minor": 0
      },
      "text/plain": [
       "HBox(children=(IntProgress(value=0, description='Epoch', max=10), HTML(value='')))"
      ]
     },
     "metadata": {},
     "output_type": "display_data"
    },
    {
     "name": "stdout",
     "output_type": "stream",
     "text": [
      "epoch      trn_loss   val_loss   accuracy                  \n",
      "    0      0.164176   0.159354   0.2       \n",
      "    1      0.150069   0.162837   0.218182                  \n",
      "    2      0.136673   0.164036   0.272727                  \n",
      "    3      0.122584   0.160953   0.327273                  \n",
      "    4      0.108273   0.157575   0.363636                  \n",
      "    5      0.094057   0.154622   0.381818                   \n",
      "    6      0.080101   0.151419   0.4                        \n",
      "    7      0.066669   0.151231   0.363636                   \n",
      "    8      0.054151   0.151706   0.363636                   \n",
      "    9      0.042934   0.151814   0.363636                   \n",
      "\n",
      "0.5624505928853755\n"
     ]
    },
    {
     "data": {
      "application/vnd.jupyter.widget-view+json": {
       "model_id": "75f644da95284c5d9312c008f0fd486b",
       "version_major": 2,
       "version_minor": 0
      },
      "text/plain": [
       "HBox(children=(IntProgress(value=0, description='Epoch', max=10), HTML(value='')))"
      ]
     },
     "metadata": {},
     "output_type": "display_data"
    },
    {
     "name": "stdout",
     "output_type": "stream",
     "text": [
      "epoch      trn_loss   val_loss   accuracy                  \n",
      "    0      0.165349   0.157979   0.309091  \n",
      "    1      0.151112   0.148702   0.381818                  \n",
      "    2      0.137533   0.14049    0.418182                  \n",
      "    3      0.123051   0.13576    0.472727                  \n",
      "    4      0.108155   0.134685   0.527273                  \n",
      "    5      0.093368   0.134235   0.509091                   \n",
      "    6      0.078974   0.133504   0.509091                   \n",
      "    7      0.065234   0.133824   0.509091                   \n",
      "    8      0.05251    0.134307   0.509091                   \n",
      "    9      0.041201   0.135081   0.509091                   \n",
      "\n",
      "0.5617021276595745\n"
     ]
    },
    {
     "data": {
      "application/vnd.jupyter.widget-view+json": {
       "model_id": "808e8592388c4a6d875f4299897327bd",
       "version_major": 2,
       "version_minor": 0
      },
      "text/plain": [
       "HBox(children=(IntProgress(value=0, description='Epoch', max=10), HTML(value='')))"
      ]
     },
     "metadata": {},
     "output_type": "display_data"
    },
    {
     "name": "stdout",
     "output_type": "stream",
     "text": [
      "epoch      trn_loss   val_loss   accuracy                  \n",
      "    0      0.165981   0.153575   0.327273  \n",
      "    1      0.151477   0.14675    0.363636                  \n",
      "    2      0.137931   0.141736   0.418182                  \n",
      "    3      0.123809   0.139022   0.472727                  \n",
      "    4      0.109398   0.138826   0.472727                  \n",
      "    5      0.095076   0.138429   0.490909                   \n",
      "    6      0.081025   0.137952   0.472727                   \n",
      "    7      0.067496   0.138227   0.472727                   \n",
      "    8      0.054845   0.139876   0.490909                   \n",
      "    9      0.043461   0.141612   0.490909                   \n",
      "\n",
      "0.5602272727272727\n"
     ]
    },
    {
     "data": {
      "application/vnd.jupyter.widget-view+json": {
       "model_id": "79028925d9924290ad7511439bf189ab",
       "version_major": 2,
       "version_minor": 0
      },
      "text/plain": [
       "HBox(children=(IntProgress(value=0, description='Epoch', max=10), HTML(value='')))"
      ]
     },
     "metadata": {},
     "output_type": "display_data"
    },
    {
     "name": "stdout",
     "output_type": "stream",
     "text": [
      "epoch      trn_loss   val_loss   accuracy                  \n",
      "    0      0.165347   0.154674   0.4       \n",
      "    1      0.151263   0.139006   0.490909                  \n",
      "    2      0.13772    0.124734   0.6                       \n",
      "    3      0.123356   0.117227   0.690909                  \n",
      "    4      0.108626   0.115322   0.690909                  \n",
      "    5      0.09386    0.115333   0.654545                   \n",
      "    6      0.079306   0.11502    0.654545                   \n",
      "    7      0.065404   0.114693   0.654545                   \n",
      "    8      0.052623   0.115468   0.618182                   \n",
      "    9      0.041331   0.116383   0.6                        \n",
      "\n",
      "0.5628942486085343\n"
     ]
    },
    {
     "data": {
      "application/vnd.jupyter.widget-view+json": {
       "model_id": "8450297e77704d00ab67a78e43d64786",
       "version_major": 2,
       "version_minor": 0
      },
      "text/plain": [
       "HBox(children=(IntProgress(value=0, description='Epoch', max=10), HTML(value='')))"
      ]
     },
     "metadata": {},
     "output_type": "display_data"
    },
    {
     "name": "stdout",
     "output_type": "stream",
     "text": [
      "epoch      trn_loss   val_loss   accuracy                  \n",
      "    0      0.164977   0.151176   0.345455  \n",
      "    1      0.150836   0.133069   0.581818                  \n",
      "    2      0.137276   0.119234   0.618182                  \n",
      "    3      0.122986   0.110075   0.636364                  \n",
      "    4      0.108496   0.105544   0.636364                  \n",
      "    5      0.094062   0.104394   0.636364                   \n",
      "    6      0.079783   0.103851   0.618182                   \n",
      "    7      0.065927   0.104824   0.636364                   \n",
      "    8      0.053076   0.106557   0.618182                   \n",
      "    9      0.041698   0.108357   0.581818                   \n",
      "\n",
      "0.5643636363636364\n"
     ]
    }
   ],
   "source": [
    "runs = 5\n",
    "out_dim = 5\n",
    "\n",
    "preds_txt, targs_txt = [], []\n",
    "\n",
    "for i in range(runs):\n",
    "    outer_cv = KFold(n_splits=10, shuffle=True, random_state=i)\n",
    "    \n",
    "    outer_cv.get_n_splits(Xall, yall)\n",
    "    for j, (nontest_i, test_i) in enumerate(outer_cv.split(Xall, yall)):\n",
    "        X_train, y_train = Xall[nontest_i], yall[nontest_i]\n",
    "        X_test, y_test = Xall[test_i], yall[test_i]\n",
    "        \n",
    "        textcnn = MWrapper(CNN_Text(in_dim, out_dim),\n",
    "                               f'{i}_nscnntext5s_{j}')\n",
    "        textcnn.model.apply(weights_init)\n",
    "\n",
    "        dl_train = fd.DataLoader(SimpleDataset(X_train, y_train),\n",
    "                                 batch_size=32, num_workers=2,\n",
    "                                 pad_idx=1, transpose=False)\n",
    "        dl_val = fd.DataLoader(SimpleDataset(X_test, y_test),\n",
    "                               batch_size=32, num_workers=2,\n",
    "                               pad_idx=1, transpose=False)\n",
    "        modeldata = fs.ModelData(str(textcnn.path), dl_train, dl_val)\n",
    "        learner = fl.Learner.from_model_data(textcnn.model,\n",
    "                                             modeldata,\n",
    "                                             opt_fn=Adam_lambda())\n",
    "        learner.metrics = [fm.accuracy]\n",
    "        learner.fit(5e-4, 10, best_save_name='best')\n",
    "        \n",
    "        dl_test = fd.DataLoader(SimpleDataset(X_test, y_test),\n",
    "                                batch_size=32, num_workers=2,\n",
    "                                pad_idx=1, transpose=False)\n",
    "        learner.load('best')\n",
    "        preds, targs = learner.predict_dl(dl_test)\n",
    "        preds_txt += multi_to_text_out(preds, trunner.alldata.ovectorizer)\n",
    "        targs_txt += multi_to_text_out(targs, trunner.alldata.ovectorizer)\n",
    "        print(accuracy_score(targs_txt, preds_txt))"
   ]
  },
  {
   "cell_type": "code",
   "execution_count": 2,
   "metadata": {},
   "outputs": [],
   "source": [
    "# pickle.dump([preds_txt, targs_txt], open('data/results/cnn-io_5s.pkl', 'wb'))\n",
    "preds_txt, targs_txt = pickle.load(open('data/results/cnn-io_5s.pkl', 'rb'))"
   ]
  },
  {
   "cell_type": "code",
   "execution_count": 3,
   "metadata": {},
   "outputs": [
    {
     "name": "stdout",
     "output_type": "stream",
     "text": [
      "                 precision    recall  f1-score   support\n",
      "\n",
      "data structures    0.58549   0.82182   0.68381       550\n",
      "             dp    0.58672   0.28909   0.38733       550\n",
      "         greedy    0.54631   0.52545   0.53568       550\n",
      " implementation    0.55512   0.51273   0.53308       550\n",
      "           math    0.55224   0.67273   0.60656       550\n",
      "\n",
      "    avg / total    0.56518   0.56436   0.54929      2750\n",
      "\n",
      "0.5643636363636364\n",
      "0.5492929551077546\n",
      "Normalized confusion matrix\n",
      "[[0.82182 0.03818 0.06909 0.02    0.05091]\n",
      " [0.16727 0.28909 0.17091 0.17455 0.19818]\n",
      " [0.13273 0.05273 0.52545 0.13818 0.15091]\n",
      " [0.16    0.04909 0.13273 0.51273 0.14545]\n",
      " [0.12182 0.06364 0.06364 0.07818 0.67273]]\n",
      "0.8218181818181818\n"
     ]
    },
    {
     "data": {
      "image/png": "[encoded data removed]",
      "text/plain": [
       "<Figure size 1584x1152 with 2 Axes>"
      ]
     },
     "metadata": {},
     "output_type": "display_data"
    }
   ],
   "source": [
    "labels = ['data structures', 'dp', 'greedy', 'implementation', 'math']\n",
    "\n",
    "print(classification_report(targs_txt, preds_txt, labels=labels, digits=5))\n",
    "print(accuracy_score(targs_txt, preds_txt))\n",
    "print(f1_score(targs_txt, preds_txt, average='weighted'))\n",
    "plot_confusion_matrix(targs_txt, preds_txt, labels)"
   ]
  },
  {
   "cell_type": "code",
   "execution_count": null,
   "metadata": {},
   "outputs": [],
   "source": []
  }
 ],
 "metadata": {
  "kernelspec": {
   "display_name": "Python 3",
   "language": "python",
   "name": "python3"
  },
  "language_info": {
   "codemirror_mode": {
    "name": "ipython",
    "version": 3
   },
   "file_extension": ".py",
   "mimetype": "text/x-python",
   "name": "python",
   "nbconvert_exporter": "python",
   "pygments_lexer": "ipython3",
   "version": "3.6.6"
  }
 },
 "nbformat": 4,
 "nbformat_minor": 2
}
