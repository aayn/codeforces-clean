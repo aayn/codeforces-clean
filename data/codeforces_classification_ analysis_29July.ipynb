{
 "cells": [
  {
   "cell_type": "code",
   "execution_count": 1,
   "metadata": {
    "collapsed": false
   },
   "outputs": [],
   "source": [
    "import pickle as pkl\n",
    "import matplotlib.pyplot as plt\n",
    "%matplotlib inline \n",
    "from matplotlib.pyplot import figure\n",
    "from wordcloud import WordCloud\n",
    "import spacy\n",
    "import random\n",
    "from operator import itemgetter\n",
    "import numpy as np\n",
    "np.random.seed(42)\n"
   ]
  },
  {
   "cell_type": "code",
   "execution_count": null,
   "metadata": {
    "collapsed": false
   },
   "outputs": [],
   "source": [
    "# something something difficulty\n",
    "difficulty = pkl.load(open('extra_data_dict16aug.pkl','rb'))\n",
    "print(difficulty['http://codeforces.com/problemset/problem/215/D'][1])\n",
    "count = 0\n",
    "\n",
    "strings = ['Div. 1','Div. 2', 'Div. 1 + Div. 2', 'Div. 3']\n",
    "for i in difficulty:\n",
    "    for c in strings:\n",
    "        if c in difficulty[i][1]: \n",
    "            count += 1\n",
    "            break\n",
    "        \n",
    "print(count/len(difficulty))"
   ]
  },
  {
   "cell_type": "code",
   "execution_count": null,
   "metadata": {
    "collapsed": false
   },
   "outputs": [],
   "source": [
    "# list names contains list of names from http://deron.meranda.us/data/census-derived-all-first.txt\n",
    "names = open('census-derived-all-first.txt').readlines()\n",
    "print(names[:10])\n",
    "list_names = []\n",
    "for i in names:\n",
    "    list_names.append(i.split()[0].lower().capitalize())\n",
    "print(list_names[:10])\n",
    "list_names = set(list_names)\n",
    "if 'John' in list_names:\n",
    "    print('a')"
   ]
  },
  {
   "cell_type": "code",
   "execution_count": 13,
   "metadata": {
    "collapsed": false
   },
   "outputs": [],
   "source": [
    "data = pkl.load(open('dataset_26aug.pkl','rb'))"
   ]
  },
  {
   "cell_type": "code",
   "execution_count": null,
   "metadata": {
    "collapsed": false
   },
   "outputs": [],
   "source": [
    "print(len(data))\n",
    "data25aug = manually_remove_problems(data)\n",
    "print(len(data25aug))\n",
    "pkl.dump(data25aug, open('dataset_26aug.pkl','wb'))\n",
    "print(len(data25aug))\n",
    "print(data25aug['http://codeforces.com/problemset/problem/215/D'])"
   ]
  },
  {
   "cell_type": "code",
   "execution_count": 3,
   "metadata": {
    "collapsed": false
   },
   "outputs": [
    {
     "name": "stdout",
     "output_type": "stream",
     "text": [
      "{'chinese remainder theorem': 9, 'games': 74, 'schedules': 5, 'brute force': 615, 'dfs and similar': 373, 'dsu': 142, 'constructive algorithms': 433, 'strings': 231, 'flows': 60, 'graph matchings': 27, 'trees': 280, 'bitmasks': 153, 'implementation': 1244, 'string suffix structures': 47, 'ternary search': 20, '2-sat': 11, 'meet-in-the-middle': 21, 'matrices': 59, 'binary search': 364, 'math': 786, 'expression parsing': 27, 'number theory': 221, 'hashing': 85, 'combinatorics': 213, 'probabilities': 99, 'shortest paths': 98, 'fft': 24, 'two pointers': 158, 'divide and conquer': 89, 'sortings': 356, 'greedy': 762, 'dp': 803, 'graphs': 342, 'geometry': 193, 'data structures': 608}\n"
     ]
    }
   ],
   "source": [
    "def manually_remove_problems(data):\n",
    "    \"\"\" remove problem from data if it has a certain tag\"\"\"\n",
    "    final_data = {}\n",
    "    remove_tags = ['*special']\n",
    "    remove_string1 = 'See the problem statement here:'\n",
    "    remove_string2 = 'This problem was deleted from the contest, because it was used previously at another competition.'\n",
    "\n",
    "    remove_contest = '952'\n",
    "    for i in data:\n",
    "        if set(data[i][1][0]).intersection(set(remove_tags)) == set():\n",
    "            if data[i][0][0] != '' and remove_string1 not in data[i][0][0] and remove_string2 not in data[i][0][0]:\n",
    "                if remove_contest not in i:\n",
    "                    if len(data[i][1][0]) > 0:\n",
    "                        final_data[i] = data[i]\n",
    "    return final_data\n",
    "    \n",
    "def get_all_classes(data):\n",
    "    '''returns a list of all classes in this dataset'''\n",
    "    all_classes = set()\n",
    "    for i in data:\n",
    "        for cls in data[i][1][0]:\n",
    "#             print(cls)\n",
    "            if cls not in all_classes:\n",
    "                all_classes.add(cls)\n",
    "#                 print(cls, i)\n",
    "    return list(all_classes)\n",
    "\n",
    "def split_data_acc_contestid(data, contestid):\n",
    "    train = {}\n",
    "    test = {}\n",
    "    for i in data:\n",
    "        if int(i.split('/')[5]) > contestid:\n",
    "            test[i] = data[i]\n",
    "        else:\n",
    "            train[i] = data[i]\n",
    "    return train, test  \n",
    "\n",
    "def get_single_label_problems(data):\n",
    "    '''returns a dict of all problems which only have one label'''\n",
    "    single_label_problems = {}\n",
    "    for i in data:\n",
    "        if len(data[i][1][0]) == 1:\n",
    "            single_label_problems[i] = data[i]\n",
    "    return single_label_problems\n",
    "\n",
    "\n",
    "def get_classwise_distribution(data):\n",
    "    class_count = {}\n",
    "    for i in data:\n",
    "        for cls in data[i][1][0]:\n",
    "            if cls in class_count:\n",
    "                class_count[cls] +=1 \n",
    "            else:\n",
    "                class_count[cls] = 1\n",
    "    return class_count\n",
    "\n",
    "def get_avg_len(data):\n",
    "    avg_prob = 0.0\n",
    "    avg_all = 0.0\n",
    "    for i in data:\n",
    "        avg_prob += len(data[i][0][2].split())\n",
    "        avg_all += len(data[i][0][0].split())\n",
    "    \n",
    "    avg_prob /= len(data)\n",
    "    avg_all /= len(data)\n",
    "\n",
    "    return(avg_prob,avg_all)\n",
    "def get_avg_no_of_classes_per_problem(data):\n",
    "    avg = 0.0\n",
    "    for i in data:\n",
    "        avg += len(data[i][1][0])\n",
    "    return avg/len(data)\n",
    "    \n",
    "    \n",
    "def get_topk_single_label_problems(data,k):\n",
    "    \"\"\" get top k by frequency single label problems\"\"\"\n",
    "    class_dict = get_classwise_distribution(data)\n",
    "    print(class_dict)\n",
    "    class_dict = dict(sorted(class_dict.items(), key=itemgetter(1), reverse=True)[:k])\n",
    "    print(set(class_dict.keys()))\n",
    "\n",
    "    topk_data = {}\n",
    "    for i in data:\n",
    "        if set(data[i][1][0]).intersection(set(class_dict.keys())) != set():\n",
    "            topk_data[i] = data[i]\n",
    "            \n",
    "    return topk_data\n",
    "    \n",
    "def get_topk_multi_label_problems(data,k):\n",
    "    \"\"\" get top k by frequency multi label problems\"\"\"\n",
    "    class_dict = get_classwise_distribution(data)\n",
    "#     print(class_dict,'AA')\n",
    "    class_dict = dict(sorted(class_dict.items(), key=itemgetter(1), reverse=True)[:k])\n",
    "#     print(set(class_dict.keys()))\n",
    "\n",
    "    topk_data = {}\n",
    "    for i in data:\n",
    "        if set(data[i][1][0]).intersection(set(class_dict.keys())) != set():\n",
    "            topk_data[i] = data[i]\n",
    "            topk_data[i][1][0] = list(set(data[i][1][0]).intersection(set(class_dict.keys())))\n",
    "            \n",
    "    return topk_data\n",
    "\n",
    "def make_probfreq_noofclass_histogram(data):\n",
    "    freq_noocclasses = {}\n",
    "    for i in data:\n",
    "        if len(data[i][1][0]) in freq_noocclasses:\n",
    "            freq_noocclasses[len(data[i][1][0])] += 1\n",
    "        else:\n",
    "            freq_noocclasses[len(data[i][1][0])] = 1\n",
    "            \n",
    "    figure(num=None, figsize=(50, 10), dpi=80, facecolor='w', edgecolor='k')\n",
    "    plt.bar(freq_noocclasses.keys(), freq_noocclasses.values(), color='g')\n",
    "    return freq_noocclasses\n",
    "\n",
    "class_count = get_classwise_distribution(data)\n",
    "print(class_count)"
   ]
  },
  {
   "cell_type": "code",
   "execution_count": 114,
   "metadata": {
    "collapsed": false
   },
   "outputs": [],
   "source": [
    "# randomly remove some problems from implementation\n",
    "def remove_problems_implementation(data_single):\n",
    "    \n",
    "    np.random.seed(42)\n",
    "    \n",
    "    count = 0\n",
    "    implementation_problems = {}\n",
    "    for i in data_single:\n",
    "        if data[i][1][0][0] == 'implementation':\n",
    "            implementation_problems[i] = data_single[i]\n",
    "    print(len(implementation_problems))\n",
    "            \n",
    "    implementation_problems = np.array(list(implementation_problems.keys()))\n",
    "    np.random.shuffle(np.array(implementation_problems))\n",
    "    implementation_problems = implementation_problems[:150]\n",
    "    \n",
    "    return_dict = {}\n",
    "    \n",
    "    for i in data_single:\n",
    "        if data[i][1][0][0] != 'implementation':\n",
    "            return_dict[i] = data_single[i]\n",
    "            \n",
    "    for i in implementation_problems:\n",
    "        return_dict[i] = data_single[i]\n",
    "    return return_dict\n",
    "            \n"
   ]
  },
  {
   "cell_type": "code",
   "execution_count": 117,
   "metadata": {
    "collapsed": false
   },
   "outputs": [
    {
     "name": "stdout",
     "output_type": "stream",
     "text": [
      "3960\n",
      "1309\n",
      "AAAAA\n",
      "{'binary search': 24, 'number theory': 18, 'math': 132, 'greedy': 121, 'data structures': 110, 'probabilities': 8, 'dp': 144, 'constructive algorithms': 64, 'strings': 33, 'geometry': 49, 'two pointers': 8, 'trees': 8, 'sortings': 26, 'dfs and similar': 36, 'brute force': 65, 'combinatorics': 19, 'bitmasks': 6, 'graphs': 31, 'implementation': 405, 'dsu': 2}\n",
      "{'dp', 'math', 'implementation', 'greedy', 'data structures'}\n",
      "912\n",
      "{'dp': 144, 'math': 132, 'implementation': 405, 'greedy': 121, 'data structures': 110}\n",
      "405\n",
      "{'dp': 144, 'math': 132, 'implementation': 150, 'greedy': 121, 'data structures': 110}\n",
      "AAAAA\n",
      "{'binary search': 24, 'number theory': 18, 'math': 132, 'greedy': 121, 'data structures': 110, 'probabilities': 8, 'dp': 144, 'constructive algorithms': 64, 'strings': 33, 'geometry': 49, 'two pointers': 8, 'trees': 8, 'sortings': 26, 'dfs and similar': 36, 'brute force': 65, 'combinatorics': 19, 'bitmasks': 6, 'graphs': 31, 'implementation': 405, 'dsu': 2}\n",
      "{'dfs and similar', 'math', 'data structures', 'dp', 'constructive algorithms', 'strings', 'geometry', 'greedy', 'brute force', 'implementation'}\n",
      "1159\n",
      "{'dfs and similar': 36, 'math': 132, 'brute force': 65, 'greedy': 121, 'data structures': 110, 'dp': 144, 'constructive algorithms': 64, 'implementation': 405, 'strings': 33, 'geometry': 49}\n"
     ]
    }
   ],
   "source": [
    "# TAKE DATA\n",
    "# TAKE TOP 20 MULTIlabel\n",
    "# take top10 single label etc\n",
    "data = pkl.load(open('dataset_26aug.pkl','rb'))\n",
    "top20multi = get_topk_multi_label_problems(data,20)\n",
    "print(len(top20))\n",
    "\n",
    "single = get_single_label_problems(top20multi)\n",
    "print(len(single))\n",
    "\n",
    "print('AAAAA')\n",
    "single10 = get_topk_single_label_problems(single,5)\n",
    "print(len(single10))\n",
    "print(get_classwise_distribution(single10))\n",
    "# print(remove_problems_implementation(single10))\n",
    "single5 = remove_problems_implementation(single10)\n",
    "print(get_classwise_distribution(single5))\n",
    "pkl.dump(single5, open('5single_26aug.pkl','wb'))\n",
    "print('AAAAA')\n",
    "\n",
    "single10 = get_topk_single_label_problems(single,10)\n",
    "print(len(single10))\n",
    "print(get_classwise_distribution(single10))\n",
    "pkl.dump(single10, open('10single_26aug.pkl','wb'))\n"
   ]
  },
  {
   "cell_type": "code",
   "execution_count": 120,
   "metadata": {
    "collapsed": false
   },
   "outputs": [
    {
     "name": "stdout",
     "output_type": "stream",
     "text": [
      "3960\n",
      "3737\n"
     ]
    }
   ],
   "source": [
    "data = pkl.load(open('dataset_26aug.pkl','rb'))\n",
    "top20multi = get_topk_multi_label_problems(data,20)\n",
    "print(len(top20multi))\n",
    "pkl.dump(top20multi, open('20multi_26aug.pkl','wb'))\n",
    "\n",
    "\n",
    "top10multi = get_topk_multi_label_problems(data,10)\n",
    "print(len(top10multi))\n",
    "pkl.dump(top10multi, open('10multi_26aug.pkl','wb'))\n"
   ]
  },
  {
   "cell_type": "code",
   "execution_count": 58,
   "metadata": {
    "collapsed": false
   },
   "outputs": [
    {
     "name": "stdout",
     "output_type": "stream",
     "text": [
      "{'binary search': 364, 'number theory': 221, 'math': 786, 'brute force': 615, 'dfs and similar': 373, 'dsu': 142, 'dp': 803, 'probabilities': 99, 'data structures': 608, 'strings': 231, 'geometry': 193, 'two pointers': 158, 'trees': 280, 'sortings': 356, 'constructive algorithms': 433, 'greedy': 762, 'combinatorics': 213, 'bitmasks': 153, 'graphs': 342, 'implementation': 1244}\n"
     ]
    }
   ],
   "source": [
    "data = pkl.load(open('dataset_26aug.pkl','rb'))\n",
    "d1 = get_classwise_distribution(data)\n",
    "# print(d1)\n",
    "class_dict = dict(sorted(d1.items(), key=itemgetter(1), reverse=True)[:20])\n",
    "print(class_dict)"
   ]
  },
  {
   "cell_type": "code",
   "execution_count": 57,
   "metadata": {
    "collapsed": false
   },
   "outputs": [
    {
     "name": "stdout",
     "output_type": "stream",
     "text": [
      "{1: 1229, 2: 1429, 3: 868, 4: 332, 5: 109, 6: 31, 7: 3, 11: 1}\n",
      "{1: 1229, 2: 1429, 3: 868, 4: 332, 5: 109, 6: 31, 7: 3, 11: 1}\n",
      "{1: 0.30709645177411293, 2: 0.35707146426786607, 3: 0.21689155422288856, 4: 0.08295852073963018, 5: 0.02723638180909545, 6: 0.007746126936531734, 7: 0.0007496251874062968, 11: 0.0002498750624687656}\n"
     ]
    },
    {
     "data": {
      "image/png": "[encoded data removed]",
      "text/plain": [
       "<matplotlib.figure.Figure at 0x12a4d8b38>"
      ]
     },
     "metadata": {},
     "output_type": "display_data"
    },
    {
     "data": {
      "image/png": "[encoded data removed]",
      "text/plain": [
       "<matplotlib.figure.Figure at 0x12a589780>"
      ]
     },
     "metadata": {},
     "output_type": "display_data"
    },
    {
     "data": {
      "image/png": "[encoded data removed]",
      "text/plain": [
       "<matplotlib.figure.Figure at 0x12a4b8828>"
      ]
     },
     "metadata": {},
     "output_type": "display_data"
    }
   ],
   "source": [
    "data = pkl.load(open('dataset_26aug.pkl','rb'))\n",
    "top20 = get_topk_multi_label_problems(data,25)\n",
    "print(make_probfreq_noofclass_histogram(top20))\n",
    "\n",
    "print(make_probfreq_noofclass_histogram(top20))\n",
    "\n",
    "d2 = make_probfreq_noofclass_histogram(top20)\n",
    "print({k : val / sum(d2.values()) for k, val in d2.items()})\n"
   ]
  },
  {
   "cell_type": "code",
   "execution_count": 54,
   "metadata": {
    "collapsed": false
   },
   "outputs": [
    {
     "name": "stdout",
     "output_type": "stream",
     "text": [
      "2.189350584722568\n",
      "4019\n",
      "1.3821405121470782\n",
      "1.408631521442229\n",
      "1.3909601634320736\n"
     ]
    },
    {
     "ename": "TypeError",
     "evalue": "len() takes exactly one argument (0 given)",
     "output_type": "error",
     "traceback": [
      "\u001b[0;31m---------------------------------------------------------------------------\u001b[0m",
      "\u001b[0;31mTypeError\u001b[0m                                 Traceback (most recent call last)",
      "\u001b[0;32m<ipython-input-54-863072777cdc>\u001b[0m in \u001b[0;36m<module>\u001b[0;34m()\u001b[0m\n\u001b[1;32m     11\u001b[0m \u001b[0mprint\u001b[0m\u001b[0;34m(\u001b[0m\u001b[0mget_avg_no_of_classes_per_problem\u001b[0m\u001b[0;34m(\u001b[0m\u001b[0mtop15\u001b[0m\u001b[0;34m)\u001b[0m\u001b[0;34m)\u001b[0m\u001b[0;34m\u001b[0m\u001b[0m\n\u001b[1;32m     12\u001b[0m \u001b[0;34m\u001b[0m\u001b[0m\n\u001b[0;32m---> 13\u001b[0;31m \u001b[0mprint\u001b[0m\u001b[0;34m(\u001b[0m\u001b[0mlen\u001b[0m\u001b[0;34m(\u001b[0m\u001b[0;34m)\u001b[0m\u001b[0;34m)\u001b[0m\u001b[0;34m\u001b[0m\u001b[0m\n\u001b[0m\u001b[1;32m     14\u001b[0m \u001b[0mprint\u001b[0m\u001b[0;34m(\u001b[0m\u001b[0mlen\u001b[0m\u001b[0;34m(\u001b[0m\u001b[0mget_single_label_problems\u001b[0m\u001b[0;34m(\u001b[0m\u001b[0mtop15\u001b[0m\u001b[0;34m)\u001b[0m\u001b[0;34m)\u001b[0m\u001b[0;34m)\u001b[0m\u001b[0;34m\u001b[0m\u001b[0m\n",
      "\u001b[0;31mTypeError\u001b[0m: len() takes exactly one argument (0 given)"
     ]
    }
   ],
   "source": [
    "# data = manually_remove_problems(data)\n",
    "\n",
    "print(get_avg_no_of_classes_per_problem(data))\n",
    "print(len(data))\n",
    "top5 = get_topk_multi_label_problems(data,5)\n",
    "top10 = get_topk_multi_label_problems(data,10)\n",
    "top15 = get_topk_multi_label_problems(data,15)\n",
    "\n",
    "print(get_avg_no_of_classes_per_problem(top5))\n",
    "print(get_avg_no_of_classes_per_problem(top10))\n",
    "print(get_avg_no_of_classes_per_problem(top15))\n",
    "\n",
    "print(len())\n",
    "print(len(get_single_label_problems(top15)))"
   ]
  },
  {
   "cell_type": "code",
   "execution_count": null,
   "metadata": {
    "collapsed": false
   },
   "outputs": [],
   "source": [
    "\n",
    "top5 = get_topk_multi_label_problems(data,5)\n",
    "top10 = get_topk_multi_label_problems(data,10)\n",
    "top15 = get_topk_multi_label_problems(data,15)\n",
    "\n",
    "print(get_avg_no_of_classes_per_problem(top5))\n",
    "print(get_avg_no_of_classes_per_problem(top10))\n",
    "print(get_avg_no_of_classes_per_problem(top15))\n",
    "\n",
    "print(get_avg_no_of_classes_per_problem(data))"
   ]
  },
  {
   "cell_type": "code",
   "execution_count": null,
   "metadata": {
    "collapsed": false
   },
   "outputs": [],
   "source": [
    "# get good examples for writing in paper\n",
    "data = manually_remove_problems(data)\n",
    "min1 = 10000000000\n",
    "min_p = ''\n",
    "for i in data:\n",
    "    if len(data[i][0][0].split()) < 100:\n",
    "        min1 = len(data[i][0][2].split())\n",
    "        min_p = data[i][0][2]\n",
    "        print('a',min_p,min1,data[i][1][0],i,'b')\n",
    "print(min_p,min1)\n",
    "\n",
    "\n",
    "\n",
    "print(len(data))"
   ]
  },
  {
   "cell_type": "code",
   "execution_count": null,
   "metadata": {
    "collapsed": false
   },
   "outputs": [],
   "source": [
    "single_label_problems = get_single_label_problems(data)\n",
    "single_label_problems = manually_remove_problems(single_label_problems)\n",
    "\n",
    "\n",
    "print(len(single_label_problems))"
   ]
  },
  {
   "cell_type": "code",
   "execution_count": null,
   "metadata": {
    "collapsed": false
   },
   "outputs": [],
   "source": [
    "# make datasets for manual evaluation\n",
    "list_problems = get_topk_multi_label_problems(single_label_problems,15)\n",
    "print(len(list_problems))\n",
    "list_keys = list(list_problems.keys())\n",
    "\n",
    "single_label_maunal_eval = np.random.permutation(list_keys)[:120]\n",
    "# print(len(list_keys))"
   ]
  },
  {
   "cell_type": "code",
   "execution_count": null,
   "metadata": {
    "collapsed": false
   },
   "outputs": [],
   "source": [
    "# make 20 warmup and 100 actual test\n",
    "import pandas as pd\n",
    "warmup = single_label_maunal_eval[:20]\n",
    "actual_test = single_label_maunal_eval[20:]\n",
    "\n",
    "def make_csv(links,single_label_problems):\n",
    "    problem_dict ={}\n",
    "    for i in links:\n",
    "        problem_dict[i] = single_label_problems[i][0][0]\n",
    "    return problem_dict\n",
    "\n",
    "def make_answers(links,single_label_problems):\n",
    "    problem_dict ={}\n",
    "    for i in links:\n",
    "        problem_dict[i] = single_label_problems[i][1][0], \n",
    "    return problem_dict\n",
    "\n",
    "# print(make_csv(warmup,single_label_problems))\n",
    "\n",
    "warmup_dict = make_csv(warmup,single_label_problems)\n",
    "warmup_problems = pd.DataFrame.from_dict(warmup_dict, orient='index')\n",
    "warmup_answers = pd.DataFrame.from_dict(make_answers(warmup,single_label_problems) , orient='index')\n",
    "warmup_problems.to_csv('warmup_problems.csv')\n",
    "warmup_answers.to_csv('warmup_answers.csv')\n",
    "\n",
    "\n",
    "test_dict = make_csv(actual_test,single_label_problems)\n",
    "test_problems = pd.DataFrame.from_dict(test_dict, orient='index')\n",
    "test_problems.to_csv('test_problems.csv')\n",
    "\n"
   ]
  },
  {
   "cell_type": "code",
   "execution_count": null,
   "metadata": {
    "collapsed": false
   },
   "outputs": [],
   "source": [
    "# make like a histogram for class wise problem distribution\n",
    "\n",
    "def make_class_count_histogram(data, threshhold, plot):\n",
    "    class_count = {}\n",
    "    for i in data:\n",
    "        for cls in data[i][1][0]:\n",
    "            if cls in class_count:\n",
    "                class_count[cls] +=1 \n",
    "            else:\n",
    "                class_count[cls] = 1\n",
    "    class_count_x = {}\n",
    "\n",
    "    if plot:\n",
    "        for i in class_count:\n",
    "            if class_count[i] > threshhold:\n",
    "                class_count_x[i] = class_count[i]\n",
    "\n",
    "        figure(num=None, figsize=(50, 10), dpi=80, facecolor='w', edgecolor='k')\n",
    "        plt.bar(class_count_x.keys(), class_count_x.values(), color='g')\n",
    "    \n",
    "    sum_p=0\n",
    "    for i in data:\n",
    "        if set(data[i][1][0]).intersection(set(list(class_count_x.keys()))) != set():\n",
    "            sum_p += 1\n",
    "            \n",
    "    return class_count\n",
    "\n",
    "# print('all data')\n",
    "# make_class_count_histogram(data,50,1)\n",
    "# train, test = split_data_acc_contestid(data, 800)\n",
    "# print('all data till contest 800')\n",
    "# make_class_count_histogram(train,50,1)\n",
    "# print('all data after contest 800')\n",
    "# make_class_count_histogram(test,50,1)\n",
    "\n",
    "# print('all single label data')\n",
    "# make_class_count_histogram(single_label_problems, 10, 1)\n",
    "# train_single, test_single = split_data_acc_contestid(single_label_problems, 800)\n",
    "# print('all data till contest 800')\n",
    "# make_class_count_histogram(train_single,10,1)\n",
    "# print('all data after contest 800')\n",
    "# make_class_count_histogram(test_single,5,1)\n",
    "\n",
    "print(make_class_count_histogram(data,200,0))\n",
    "\n"
   ]
  },
  {
   "cell_type": "code",
   "execution_count": null,
   "metadata": {
    "collapsed": false
   },
   "outputs": [],
   "source": []
  },
  {
   "cell_type": "code",
   "execution_count": null,
   "metadata": {
    "collapsed": false
   },
   "outputs": [],
   "source": [
    "# topk_data = get_topk_single_label_problems(single_label_problems,15)\n",
    "# print(len(topk_data))\n",
    "topk_data = get_topk_multi_label_problems(data,15)\n",
    "print(len(topk_data))\n",
    "\n"
   ]
  },
  {
   "cell_type": "code",
   "execution_count": null,
   "metadata": {
    "collapsed": false
   },
   "outputs": [],
   "source": [
    "#find wordcloud\n",
    "text = ' '.join([data[i][0][2] for i in data])\n",
    "\n",
    "\n",
    "def make_wordcloud(text):\n",
    "    wordcloud = WordCloud().generate(text)\n",
    "    figure(num=None, figsize=(50, 10), dpi=80)\n",
    "    plt.imshow(wordcloud, interpolation='bilinear')\n",
    "    plt.axis(\"off\")\n",
    "make_wordcloud(text)"
   ]
  },
  {
   "cell_type": "code",
   "execution_count": null,
   "metadata": {
    "collapsed": false
   },
   "outputs": [],
   "source": [
    "# load spacy english model\n",
    "nlp = spacy.load('en_core_web_sm')"
   ]
  },
  {
   "cell_type": "code",
   "execution_count": null,
   "metadata": {
    "collapsed": false
   },
   "outputs": [],
   "source": [
    "# get a subset of the data somehow\n",
    "\n",
    "print(data[list(data.keys())[0]][0][0][:10])\n",
    "data_s =  nlp(data[list(data.keys())[0]][0][0])\n",
    "print(set([w.label_ for w in data_s.ents]))"
   ]
  },
  {
   "cell_type": "code",
   "execution_count": null,
   "metadata": {
    "collapsed": false
   },
   "outputs": [],
   "source": [
    "\n",
    "def find_narrative_percentage(data):\n",
    "    c = 0\n",
    "    for index,link in enumerate(data):\n",
    "        prob_s = nlp(data[link][0][2].strip().replace('\\n',' ').replace('\\r',' ').replace('\\r',' '))\n",
    "#         print(set([w.label_ for w in prob_s.ents]))\n",
    "        ent_set = set([w.label_ for w in prob_s.ents])\n",
    "        \n",
    "        if 'PERSON' in ent_set:\n",
    "            c += 1\n",
    "        \n",
    "#         frenchPeople = [ent for ent in prob_s.ents if ent.label_ == 'PERSON' ]\n",
    "#         print([ent.sent for ent in frenchPeople])\n",
    "    \n",
    "    return c,len(list(data.keys()))\n",
    "\n",
    "print(find_narrative_percentage(data))\n"
   ]
  },
  {
   "cell_type": "code",
   "execution_count": null,
   "metadata": {
    "collapsed": false
   },
   "outputs": [],
   "source": [
    "print(data['http://codeforces.com/problemset/problem/1004/D'][0][2].split('\\n'))"
   ]
  },
  {
   "cell_type": "code",
   "execution_count": null,
   "metadata": {
    "collapsed": false
   },
   "outputs": [],
   "source": [
    "def find_people_percentage(data):\n",
    "    c = 0\n",
    "    for index,link in enumerate(list(data.keys())):\n",
    "        for word in data[link][0][2].split():\n",
    "            if word in list_names and word not in ['In','An','So','Soon']:\n",
    "#                 print(word,link)\n",
    "                c += 1\n",
    "                break        \n",
    "    return c,len(list(data.keys()))\n",
    "find_people_percentage(data)\n",
    "# print(list_names)"
   ]
  },
  {
   "cell_type": "code",
   "execution_count": null,
   "metadata": {
    "collapsed": false,
    "scrolled": true
   },
   "outputs": [],
   "source": [
    "keys = list(data.keys())[:100]\n",
    "\n",
    "def print_person_in_problems(keys):\n",
    "    for key in keys:\n",
    "        print('A ',key, 'A')\n",
    "        sentence = data[key][0][2].strip().replace('\\n',' ').replace('\\r',' ').replace('\\r',' ')\n",
    "\n",
    "        s = nlp(sentence)\n",
    "        ent_set = set([(w.label_, w.text) for w in s.ents ])\n",
    "        print(ent_set)\n",
    "print_person_in_problems(keys)"
   ]
  },
  {
   "cell_type": "code",
   "execution_count": null,
   "metadata": {
    "collapsed": false
   },
   "outputs": [],
   "source": [
    "a = '\\u2009'\n",
    "print(a)"
   ]
  },
  {
   "cell_type": "code",
   "execution_count": null,
   "metadata": {
    "collapsed": false
   },
   "outputs": [],
   "source": [
    "4311/4353"
   ]
  },
  {
   "cell_type": "code",
   "execution_count": null,
   "metadata": {
    "collapsed": false
   },
   "outputs": [],
   "source": [
    "# find average size of problems\n",
    "\n",
    "\n",
    "print(get_avg_len(data))\n",
    "print(get_avg_len(single_label_problems))\n"
   ]
  },
  {
   "cell_type": "code",
   "execution_count": null,
   "metadata": {
    "collapsed": false
   },
   "outputs": [],
   "source": [
    "# average length of problem per class\n",
    "\n",
    "def get_classwise_problem_length(data):\n",
    "    class_size_dict = {}\n",
    "    for link in data:\n",
    "        for tag in data[link][1][0]:\n",
    "            if tag not in class_size_dict:\n",
    "                class_size_dict[tag] = [len(data[link][0][2].split()), 1]\n",
    "            else:\n",
    "                class_size_dict[tag][0] += len(data[link][0][2].split())\n",
    "                class_size_dict[tag][1] += 1\n",
    "    return class_size_dict            \n",
    "\n",
    "def make_class_histogram(class_size_dict):\n",
    "    histogram_dict = {}\n",
    "    for i in class_size_dict:\n",
    "        if class_size_dict[i][1] > 50:\n",
    "            histogram_dict[i] = class_size_dict[i][0]*1.0/class_size_dict[i][1]\n",
    "    \n",
    "    figure(num=None, figsize=(30, 10), dpi=80, facecolor='w', edgecolor='k')\n",
    "    plt.bar(histogram_dict.keys(), histogram_dict.values(), color='g')\n",
    "    \n",
    "    \n",
    "class_size_dict =  get_classwise_problem_length(single_label_problems)\n",
    "make_class_histogram(class_size_dict)"
   ]
  },
  {
   "cell_type": "code",
   "execution_count": null,
   "metadata": {
    "collapsed": false
   },
   "outputs": [],
   "source": [
    "# get cooccurence of labels\n",
    "from collections import defaultdict\n",
    "\n",
    "def get_co_occurrences(data):\n",
    "    com = defaultdict(dict)\n",
    "    for temp in data:\n",
    "        for i in range(len(city_list)-1):\n",
    "            for j in range(i+1, len(city_list)):\n",
    "                w1, w2 = city_list[i], city_list[j]\n",
    "                if \" \" + w1 + \" \" in temp and \" \" + w2 + \" \" in temp:\n",
    "                    print(w1,w2)\n",
    "                    if com[w1].get(w2) is None:\n",
    "                        com[w1][w2] = 1\n",
    "                    else:\n",
    "                        com[w1][w2] += 1\n",
    "    return com\n",
    "\n",
    "def get_labels_of_data(data):\n",
    "    labels_list = []\n",
    "    for i in data:\n",
    "        labels_list.append(data[i][1][0])\n",
    "\n",
    "    return labels_list\n",
    "\n",
    "\n",
    "labels = get_labels_of_data(data)    \n",
    "print(get_co_occurrences(labels))"
   ]
  },
  {
   "cell_type": "code",
   "execution_count": null,
   "metadata": {
    "collapsed": true
   },
   "outputs": [],
   "source": [
    "# check how many problems have names present in us census\n",
    "\n"
   ]
  }
 ],
 "metadata": {
  "anaconda-cloud": {},
  "kernelspec": {
   "display_name": "Python [anaconda]",
   "language": "python",
   "name": "Python [anaconda]"
  },
  "language_info": {
   "codemirror_mode": {
    "name": "ipython",
    "version": 3
   },
   "file_extension": ".py",
   "mimetype": "text/x-python",
   "name": "python",
   "nbconvert_exporter": "python",
   "pygments_lexer": "ipython3",
   "version": "3.5.2"
  }
 },
 "nbformat": 4,
 "nbformat_minor": 0
}
